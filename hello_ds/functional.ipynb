{
 "cells": [
  {
   "cell_type": "markdown",
   "metadata": {},
   "source": [
    "The Functional API\n",
    "===============\n",
    "\n",
    "https://keras.io/guides/functional_api/"
   ]
  },
  {
   "cell_type": "code",
   "execution_count": 1,
   "metadata": {},
   "outputs": [],
   "source": [
    "#Setup\n",
    "\n",
    "try:\n",
    "    import tensorflow as tf\n",
    "    from tensorflow import keras\n",
    "    #from keras.models import Sequential\n",
    "    from keras import layers\n",
    "except ImportError as e:\n",
    "    print(f\"Error occurred while importing modules: {e}\")"
   ]
  },
  {
   "cell_type": "code",
   "execution_count": 2,
   "metadata": {},
   "outputs": [
    {
     "name": "stdout",
     "output_type": "stream",
     "text": [
      "keras.layers.Input is available for use.\n",
      "Shape of 'inputs': (None, 784)\n",
      "Data type of 'inputs': <dtype: 'float32'>\n"
     ]
    }
   ],
   "source": [
    "# Start by creating an input node:\n",
    "\n",
    "try:\n",
    "    inputs = layers.Input(shape=(784,))\n",
    "    print(\"keras.layers.Input is available for use.\")\n",
    "    print(f\"Shape of 'inputs': {inputs.shape}\")\n",
    "    print(f\"Data type of 'inputs': {inputs.dtype}\")\n",
    "except (NameError, AttributeError):\n",
    "    print(\"keras.layers.Input is not available.\")"
   ]
  },
  {
   "cell_type": "code",
   "execution_count": 3,
   "metadata": {},
   "outputs": [],
   "source": [
    "# You create a new node in the graph of layers by calling a layer on this inputs object:\n",
    "dense = layers.Dense(64, activation=\"relu\")\n",
    "x = dense(inputs)"
   ]
  },
  {
   "cell_type": "code",
   "execution_count": 6,
   "metadata": {},
   "outputs": [],
   "source": [
    "# To add more layers to the graph of layers:\n",
    "x = layers.Dense(64, activation='relu')(x)"
   ]
  },
  {
   "cell_type": "code",
   "execution_count": 7,
   "metadata": {},
   "outputs": [],
   "source": [
    "# Define the output layer\n",
    "outputs = layers.Dense(10)(x)"
   ]
  },
  {
   "cell_type": "code",
   "execution_count": 8,
   "metadata": {},
   "outputs": [],
   "source": [
    "# Create the output model\n",
    "model = keras.Model(inputs=inputs, outputs=outputs, name=\"test_model\")"
   ]
  },
  {
   "cell_type": "code",
   "execution_count": 9,
   "metadata": {},
   "outputs": [
    {
     "name": "stdout",
     "output_type": "stream",
     "text": [
      "Model: \"test_model\"\n",
      "_________________________________________________________________\n",
      " Layer (type)                Output Shape              Param #   \n",
      "=================================================================\n",
      " input_1 (InputLayer)        [(None, 784)]             0         \n",
      "                                                                 \n",
      " dense (Dense)               (None, 64)                50240     \n",
      "                                                                 \n",
      " dense_1 (Dense)             (None, 64)                4160      \n",
      "                                                                 \n",
      " dense_2 (Dense)             (None, 64)                4160      \n",
      "                                                                 \n",
      " dense_3 (Dense)             (None, 64)                4160      \n",
      "                                                                 \n",
      " dense_4 (Dense)             (None, 10)                650       \n",
      "                                                                 \n",
      "=================================================================\n",
      "Total params: 63,370\n",
      "Trainable params: 63,370\n",
      "Non-trainable params: 0\n",
      "_________________________________________________________________\n"
     ]
    }
   ],
   "source": [
    "# Show a summary\n",
    "model.summary()"
   ]
  },
  {
   "cell_type": "code",
   "execution_count": 10,
   "metadata": {},
   "outputs": [
    {
     "data": {
      "image/png": "[encoded data removed]",
      "text/plain": [
       "<IPython.core.display.Image object>"
      ]
     },
     "execution_count": 10,
     "metadata": {},
     "output_type": "execute_result"
    }
   ],
   "source": [
    "# Display a graphic model\n",
    "\n",
    "import pydot\n",
    "keras.utils.plot_model(model, \"my_first_model.png\", show_shapes=True)"
   ]
  },
  {
   "cell_type": "markdown",
   "metadata": {},
   "source": [
    "#API overview: a first end-to-end example\n",
    "===============\n",
    "When passing data to the built-in training loops of a model, you should either use NumPy arrays (if your data is small and fits in memory) or tf.data.Dataset objects. In the next few paragraphs, we'll use the MNIST dataset as NumPy arrays, in order to demonstrate how to use optimizers, losses, and metrics.\n",
    "\n",
    "Let's consider the following model (here, we build in with the Functional API, but it could be a Sequential model or a subclassed model as well):"
   ]
  },
  {
   "cell_type": "code",
   "execution_count": 11,
   "metadata": {},
   "outputs": [
    {
     "name": "stdout",
     "output_type": "stream",
     "text": [
      "Model: \"test_model\"\n",
      "_________________________________________________________________\n",
      " Layer (type)                Output Shape              Param #   \n",
      "=================================================================\n",
      " input_1 (InputLayer)        [(None, 784)]             0         \n",
      "                                                                 \n",
      " dense (Dense)               (None, 64)                50240     \n",
      "                                                                 \n",
      " dense_1 (Dense)             (None, 64)                4160      \n",
      "                                                                 \n",
      " dense_2 (Dense)             (None, 64)                4160      \n",
      "                                                                 \n",
      " dense_3 (Dense)             (None, 64)                4160      \n",
      "                                                                 \n",
      " dense_4 (Dense)             (None, 10)                650       \n",
      "                                                                 \n",
      "=================================================================\n",
      "Total params: 63,370\n",
      "Trainable params: 63,370\n",
      "Non-trainable params: 0\n",
      "_________________________________________________________________\n"
     ]
    }
   ],
   "source": [
    "model.summary()"
   ]
  },
  {
   "cell_type": "markdown",
   "metadata": {},
   "source": [
    "Here's what the typical end-to-end workflow looks like, consisting of:\n",
    "\n",
    "1. Training\n",
    "2. Validation on a holdout set generated from the original training data\n",
    "3. Evaluation on the test data\n",
    "\n",
    "We'll use MNIST data for this example.\n",
    "\n",
    "https://keras.io/guides/training_with_built_in_methods/"
   ]
  },
  {
   "cell_type": "code",
   "execution_count": 12,
   "metadata": {},
   "outputs": [
    {
     "name": "stdout",
     "output_type": "stream",
     "text": [
      "Downloading data from https://storage.googleapis.com/tensorflow/tf-keras-datasets/mnist.npz\n",
      "11490434/11490434 [==============================] - 3s 0us/step\n"
     ]
    }
   ],
   "source": [
    "'''\n",
    "This code loads the MNIST dataset using the load_data() function from keras.datasets.mnist. \n",
    "It returns four NumPy arrays: x_train, y_train, x_test, and y_test. \n",
    "x_train and x_test contain the images (pixel data) of handwritten digits, \n",
    "while y_train and y_test contain the corresponding labels (digits from 0 to 9).\n",
    "'''\n",
    "\n",
    "(x_train, y_train), (x_test, y_test) = keras.datasets.mnist.load_data()"
   ]
  },
  {
   "cell_type": "code",
   "execution_count": 13,
   "metadata": {},
   "outputs": [],
   "source": [
    "'''\n",
    "The images in x_train are reshaped from 28x28 matrices to a flat array of 784 elements. \n",
    "Each image is transformed into a 1D array of pixel values. \n",
    "The astype(\"float32\") converts the pixel values to 32-bit floating-point numbers, \n",
    "and then the pixel values are normalized by dividing them by 255. \n",
    "Normalizing the pixel values to the range [0, 1] helps in faster convergence of the neural network during training.\n",
    "The same preprocessing is applied to the test set, x_test, to reshape and normalize the pixel values.\n",
    "The labels y_train and y_test are converted to 32-bit floating-point numbers.\n",
    "This conversion is done to ensure consistency in data types during training and evaluation.\n",
    "'''\n",
    "\n",
    "x_train = x_train.reshape(60000, 784).astype(\"float32\") / 255\n",
    "x_test = x_test.reshape(10000, 784).astype(\"float32\") / 255\n",
    "y_train = y_train.astype(\"float32\")\n",
    "y_test = y_test.astype(\"float32\")"
   ]
  },
  {
   "cell_type": "code",
   "execution_count": 14,
   "metadata": {},
   "outputs": [],
   "source": [
    "# Reserve 10,000 samples for validation\n",
    "\n",
    "'''\n",
    "The last 10,000 samples from the training set are separated to create a validation set. \n",
    "This validation set will be used during training to monitor the model's performance and prevent overfitting.\n",
    "'''\n",
    "\n",
    "x_val = x_train[-10000:]\n",
    "y_val = y_train[-10000:]\n",
    "x_train = x_train[:-10000]\n",
    "y_train = y_train[:-10000]"
   ]
  },
  {
   "cell_type": "code",
   "execution_count": 16,
   "metadata": {},
   "outputs": [
    {
     "data": {
      "text/plain": [
       "array([3., 8., 6., ..., 5., 6., 8.], dtype=float32)"
      ]
     },
     "execution_count": 16,
     "metadata": {},
     "output_type": "execute_result"
    }
   ],
   "source": [
    "y_val"
   ]
  },
  {
   "cell_type": "code",
   "execution_count": 18,
   "metadata": {},
   "outputs": [],
   "source": [
    "'''\n",
    "The next steps are to perform the compilation and training of a neural \n",
    "network model using TensorFlow and Keras for the MNIST dataset.\n",
    "The method compile configures the model for training. \n",
    "It specifies the optimizer, loss function, and evaluation metrics for the model\n",
    "'''\n",
    "\n",
    "model.compile(\n",
    "    optimizer=keras.optimizers.RMSprop(),\n",
    "    loss=keras.losses.SparseCategoricalCrossentropy(from_logits=True),\n",
    "    metrics=[keras.metrics.SparseCategoricalAccuracy()]\n",
    "    \n",
    "# The RMSprop optimizer is used for updating the model's weights during training\n",
    "# The Sparse Categorical Crossentropy loss function is used for calculating the model's loss during training\n",
    "# The Sparse Categorical Accuracy metric is used to monitor the accuracy of the model during training\n",
    "\n",
    ")"
   ]
  },
  {
   "cell_type": "markdown",
   "metadata": {},
   "source": [
    "The <b>optimizer</b> is responsible for updating the model's weights and biases (also known as model's parameters) \n",
    "iteratively during training process to minimize the loss function. \n",
    "The optimization process involves finding the optimal set of model parameters\n",
    "that results in the smallest possible value of the loss function. \n",
    "This optimization is often performed through an iterative process known as gradient descent or its variants.\n",
    "During each iteration of the training process, the optimizer calculates the gradients of the loss function with respect \n",
    "to the model's parameters. These gradients indicate the direction and magnitude of the steepest increase in the loss function.\n",
    "The optimizer then uses these gradients to update the model's parameters in the opposite direction to reduce the loss. \n",
    "The magnitude of the update is controlled by a learning rate, which determines how much the model's \n",
    "parameters should change at each step.\n",
    "The optimization process continues for multiple epochs, during which the optimizer repeatedly updates the model's parameters, \n",
    "gradually improving its performance on the training data.\n",
    "The choice of optimizer can significantly impact the convergence speed and the quality of the model's final results. \n",
    "Some popular optimizers include Stochastic Gradient Descent (SGD), Adam, RMSprop, and others\n",
    "\n",
    "The <b>loss function</b>, also known as a cost function or objective function, is used to measure \n",
    "how well a model is performing on a given task or problem. \n",
    "It quantifies the difference between the predicted output of the model and the true target values in the training data. \n",
    "The choice of the loss function depends on the task type, such as classification or regression. \n",
    "Selecting an appropriate loss function is essential, as it guides the model to learn meaningful representations from the data.\n",
    "For example, in classification tasks, the cross-entropy loss (binary or categorical) is commonly used, \n",
    "while mean squared error (MSE) loss is used for regression tasks.\n",
    "The ultimate objective is to find a set of model parameters that result in the smallest possible loss, \n",
    "indicating the model's best performance on the task at hand.\n",
    "\n",
    "<b>Evaluation metrics</b> are used to measure the model's performance during and after training. \n",
    "These metrics are useful for assessing how well the model is performing on tasks such as \n",
    "classification or regression on the validation or test set. \n",
    "Common evaluation metrics vary depending on the type of machine learning task:\n",
    "<ul>\n",
    "<li>Classification tasks: Accuracy, precision, recall, F1-score, ROC-AUC, etc.\n",
    "</li>\n",
    "<li>Regression tasks: Mean Squared Error (MSE), Mean Absolute Error (MAE), R-squared, etc.\n",
    "</li>\n",
    "</ul> \n",
    "\n",
    "The main purposes of evaluation metrics are as follows:\n",
    "1. Model Comparison: Evaluation metrics allow you to compare the performance of different models \n",
    "and determine which one is better suited for a specific task. For example, in a binary classification task, \n",
    "you can compare the accuracy, precision, recall, and F1-score of multiple models \n",
    "to select the one with the best overall performance.\n",
    "2. Model Selection: Evaluation metrics help in selecting the best model from a set of candidate models. \n",
    "A model with higher accuracy or better performance on other evaluation metrics is usually chosen for deployment.\n",
    "3. Hyperparameter Tuning: Evaluation metrics are used during hyperparameter tuning \n",
    "to find the best combination of hyperparameters that maximize the model's performance.\n",
    "4. Early Stopping: During training, evaluation metrics are monitored to implement early stopping. \n",
    "If the model's performance on the validation dataset does not improve or starts to deteriorate, \n",
    "training can be stopped early to avoid overfitting and save computational resources."
   ]
  },
  {
   "cell_type": "code",
   "execution_count": 19,
   "metadata": {},
   "outputs": [
    {
     "name": "stdout",
     "output_type": "stream",
     "text": [
      "Epoch 1/2\n",
      "625/625 [==============================] - 3s 3ms/step - loss: 0.1188 - sparse_categorical_accuracy: 0.9634 - val_loss: 0.1412 - val_sparse_categorical_accuracy: 0.9576\n",
      "Epoch 2/2\n",
      "625/625 [==============================] - 2s 3ms/step - loss: 0.0923 - sparse_categorical_accuracy: 0.9730 - val_loss: 0.1370 - val_sparse_categorical_accuracy: 0.9607\n"
     ]
    }
   ],
   "source": [
    "# This method trains the model on the provided training data\n",
    "\n",
    "history = model.fit(x_train, y_train, batch_size=64, epochs=2, validation_split=0.2)\n",
    "\n",
    "'''\n",
    "x_train and y_train are the training data.\n",
    "batch_size=64: The batch size determines how many samples are processed together before updating the model's weights.\n",
    "epochs=2: The number of epochs is the number of times the entire dataset is passed through the model during training.\n",
    "validation_data=(x_val, y_val): The validation data is used to evaluate the model's performance during training.\n",
    "if you already have a specific validation dataset that is different from the training data. \n",
    "This method gives more control over the validation process and allows you to use specific data for validation \n",
    "that is not part of the training data.\n",
    "But sometimes you can do it by using the validation_split argument.\n",
    "It is convenient when you want to quickly allocate a portion of the training data for validation without creating \n",
    "separate validation arrays specifying the fraction of the training data to use for validation, like as validation_split=0.2\n",
    "'''"
   ]
  },
  {
   "cell_type": "code",
   "execution_count": 20,
   "metadata": {},
   "outputs": [
    {
     "name": "stdout",
     "output_type": "stream",
     "text": [
      "313/313 - 0s - loss: 0.1107 - sparse_categorical_accuracy: 0.9670 - 417ms/epoch - 1ms/step\n",
      "Test loss: 0.11071760207414627\n",
      "Test accuracy: 0.9670000076293945\n"
     ]
    }
   ],
   "source": [
    "# Evaluate the model on the test data using `evaluate`\n",
    "\n",
    "test_scores = model.evaluate(x_test, y_test, verbose=2)\n",
    "\n",
    "''' \n",
    "Performs the evaluation of a trained machine learning model on a test dataset (x_test and y_test) \n",
    "to assess its performance on unseen data. The evaluate method is used to compute the test scores or performance metrics of the model.\n",
    "\n",
    "1. test_scores = model.evaluate(x_test, y_test, verbose=2): This line evaluates the trained model on the test dataset \n",
    "(x_test and y_test). The evaluate` method computes the loss and any specified evaluation metrics on the test data.\n",
    "\n",
    "2. test_scores: The evaluate method returns the test scores, which include the computed loss value and \n",
    "any specified evaluation metrics (e.g., accuracy, precision, recall, etc.). \n",
    "These scores indicate how well the model performs on the unseen test data.\n",
    "'''\n",
    "\n",
    "print(\"Test loss:\", test_scores[0]) # The test_scores[0] contains the test loss value, which is the computed value of the loss function on the test data\n",
    "print(\"Test accuracy:\", test_scores[1]) # The test_scores[1] contains the test accuracy value, which is the computed value of the accuracy metric on the test data.\n"
   ]
  },
  {
   "cell_type": "markdown",
   "metadata": {},
   "source": [
    "# #Save and serialize\n",
    "The standard way to save a functional model is to call model.save() to save the entire model as a single file. You can later recreate the same model from this file, even if the code that built the model is no longer available."
   ]
  },
  {
   "cell_type": "code",
   "execution_count": 21,
   "metadata": {},
   "outputs": [],
   "source": [
    "model.save(\"path_to_my_model.keras\")\n",
    "del model\n",
    "# Recreate the exact same model purely from the file:\n",
    "model = keras.models.load_model(\"path_to_my_model.keras\")"
   ]
  },
  {
   "cell_type": "markdown",
   "metadata": {},
   "source": [
    "# #Reusing models\n",
    "In the functional API, models are created by specifying their inputs and outputs in a graph of layers. That means that a single graph of layers can be used to generate multiple models."
   ]
  },
  {
   "cell_type": "code",
   "execution_count": null,
   "metadata": {},
   "outputs": [],
   "source": [
    "'''\n",
    "Encoder Part:\n",
    "\n",
    "'''\n",
    "encoder_input = keras.Input(shape=(28, 28, 1), name=\"img\")  # creates an input layer with the shape (28, 28, 1), \n",
    "                                                            # representing grayscale images of size 28x28 pixels.\n",
    "\n",
    "x = layers.Conv2D(16, 3, activation=\"relu\")(encoder_input)  # applies a 2D convolutional layer with 16 filters of size 3x3 to the input.\n",
    "                                                            # The relu activation function is used.\n",
    "\n",
    "x = layers.Conv2D(32, 3, activation=\"relu\")(x) # Another 2D convolutional layer is applied with 32 filters of size 3x3 to the output of the previous layer\n",
    "x = layers.MaxPooling2D(3)(x) # A 2D max pooling layer with pool size 3x3 is applied to reduce the spatial dimensions of the data.\n",
    "x = layers.Conv2D(32, 3, activation=\"relu\")(x) #Another 2D convolutional layer is applied with 32 filters of size 3x3.\n",
    "\n",
    "x = layers.Conv2D(16, 3, activation=\"relu\")(x) # Another 2D convolutional layer is applied with 16 filters of size 3x3.\n",
    "encoder_output = layers.GlobalMaxPooling2D()(x) \n",
    "# The output of the encoder is obtained by applying a global max pooling operation along the spatial dimensions of the data, \n",
    "# resulting in a tensor of shape (batch_size, 16).\n",
    "\n",
    "encoder = keras.Model(encoder_input, encoder_output, name=\"encoder\")\n",
    "# This line defines the encoder model, which takes the encoder_input and outputs the encoder_output. \n",
    "# It creates an instance of the keras.Model class, which represents the encoder part of the autoencoder\n",
    "\n",
    "encoder.summary()"
   ]
  },
  {
   "cell_type": "code",
   "execution_count": null,
   "metadata": {},
   "outputs": [],
   "source": [
    "'''\n",
    "Decoder Part:\n",
    "\n",
    "decoder_input = keras.Input(shape=(16,), name=\"encoded_img\")\n",
    "\n",
    "'''\n",
    "\n",
    "x = layers.Reshape((4, 4, 1))(encoder_output) # The decoder part starts by reshaping the encoder_output tensor to a shape of (4, 4, 1).\n",
    "x = layers.Conv2DTranspose(16, 3, activation=\"relu\")(x) # A 2D transposed convolutional layer (deconvolutional layer) with 16 filters of size 3x3 is applied.\n",
    "x = layers.Conv2DTranspose(32, 3, activation=\"relu\")(x) # Another 2D transposed convolutional layer with 32 filters of size 3x3 is applied.\n",
    "x = layers.UpSampling2D(3)(x) # An upsampling layer is applied, which increases the spatial dimensions of the data by a factor of 3.\n",
    "x = layers.Conv2DTranspose(16, 3, activation=\"relu\")(x) # Another 2D transposed convolutional layer with 16 filters of size 3x3 is applied.\n",
    "decoder_output = layers.Conv2DTranspose(1, 3, activation=\"relu\")(x) # The final layer applies a 2D transposed convolutional layer with 1 filter of size 3x3, \n",
    "                                                                    # which produces the decoder output.\n",
    "\n",
    "'''\n",
    "Autoencoder Model:\n",
    "\n",
    "autoencoder = keras.Model(encoder_input, decoder_output, name=\"autoencoder\"): \n",
    "This line defines the autoencoder model, which takes the encoder_input and outputs the decoder_output. \n",
    "It creates an instance of the keras.Model class, which represents the complete autoencoder model.\n",
    "'''\n",
    "\n",
    "autoencoder = keras.Model(encoder_input, decoder_output, name=\"autoencoder\")\n",
    "autoencoder.summary()\n",
    "\n",
    "''' \n",
    "The code defines an autoencoder architecture, consisting of an encoder part followed by a decoder part. \n",
    "The autoencoder is a type of neural network used for unsupervised learning, \n",
    "where it attempts to reconstruct the input data at its output, thus learning a compressed representation (latent space)\n",
    " of the input data. The encoder part compresses the input data into a lower-dimensional representation, \n",
    " and the decoder part tries to reconstruct the original data from this representation.\n",
    " '''"
   ]
  },
  {
   "cell_type": "code",
   "execution_count": null,
   "metadata": {},
   "outputs": [],
   "source": [
    "autoencoder_input = keras.Input(shape=(28, 28, 1), name=\"img\")\n",
    "encoded_img = encoder(autoencoder_input)\n",
    "decoded_img = decoder(encoded_img)\n",
    "autoencoder = keras.Model(autoencoder_input, decoded_img, name=\"autoencoder\")\n",
    "autoencoder.summary()"
   ]
  },
  {
   "cell_type": "code",
   "execution_count": null,
   "metadata": {},
   "outputs": [],
   "source": []
  }
 ],
 "metadata": {
  "kernelspec": {
   "display_name": "py31012",
   "language": "python",
   "name": "python3"
  },
  "language_info": {
   "codemirror_mode": {
    "name": "ipython",
    "version": 3
   },
   "file_extension": ".py",
   "mimetype": "text/x-python",
   "name": "python",
   "nbconvert_exporter": "python",
   "pygments_lexer": "ipython3",
   "version": "3.10.12"
  },
  "orig_nbformat": 4
 },
 "nbformat": 4,
 "nbformat_minor": 2
}
