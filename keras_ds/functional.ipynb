{
 "cells": [
  {
   "cell_type": "markdown",
   "metadata": {},
   "source": [
    "The Functional API\n",
    "===============\n",
    "\n",
    "https://keras.io/guides/functional_api/"
   ]
  },
  {
   "cell_type": "code",
   "execution_count": 1,
   "metadata": {},
   "outputs": [],
   "source": [
    "#Setup\n",
    "\n",
    "try:\n",
    "    import numpy as np\n",
    "    import matplotlib.pyplot as plt\n",
    "    import tensorflow as tf\n",
    "    from tensorflow import keras\n",
    "    #from keras.models import Sequential\n",
    "    from keras import layers\n",
    "    from keras import models\n",
    "except ImportError as e:\n",
    "    print(f\"Error occurred while importing modules: {e}\")"
   ]
  },
  {
   "cell_type": "code",
   "execution_count": 2,
   "metadata": {},
   "outputs": [
    {
     "name": "stdout",
     "output_type": "stream",
     "text": [
      "keras.layers.Input is available for use.\n",
      "Shape of 'inputs': (None, 784)\n",
      "Data type of 'inputs': <dtype: 'float32'>\n"
     ]
    }
   ],
   "source": [
    "# Start by creating an input node:\n",
    "\n",
    "try:\n",
    "    inputs = layers.Input(shape=(784,))\n",
    "    print(\"keras.layers.Input is available for use.\")\n",
    "    print(f\"Shape of 'inputs': {inputs.shape}\")\n",
    "    print(f\"Data type of 'inputs': {inputs.dtype}\")\n",
    "except (NameError, AttributeError):\n",
    "    print(\"keras.layers.Input is not available.\")"
   ]
  },
  {
   "cell_type": "code",
   "execution_count": 3,
   "metadata": {},
   "outputs": [],
   "source": [
    "# You create a new node in the graph of layers by calling a layer on this inputs object:\n",
    "dense = layers.Dense(64, activation=\"relu\")\n",
    "x = dense(inputs)"
   ]
  },
  {
   "cell_type": "code",
   "execution_count": 4,
   "metadata": {},
   "outputs": [],
   "source": [
    "# To add more layers to the graph of layers:\n",
    "x = layers.Dense(64, activation='relu')(x)"
   ]
  },
  {
   "cell_type": "code",
   "execution_count": 5,
   "metadata": {},
   "outputs": [],
   "source": [
    "# Define the output layer\n",
    "outputs = layers.Dense(10)(x)"
   ]
  },
  {
   "cell_type": "code",
   "execution_count": 6,
   "metadata": {},
   "outputs": [],
   "source": [
    "# Create the output model\n",
    "model = keras.Model(inputs=inputs, outputs=outputs, name=\"test_model\")"
   ]
  },
  {
   "cell_type": "code",
   "execution_count": 7,
   "metadata": {},
   "outputs": [
    {
     "name": "stdout",
     "output_type": "stream",
     "text": [
      "Model: \"test_model\"\n",
      "_________________________________________________________________\n",
      " Layer (type)                Output Shape              Param #   \n",
      "=================================================================\n",
      " input_1 (InputLayer)        [(None, 784)]             0         \n",
      "                                                                 \n",
      " dense (Dense)               (None, 64)                50240     \n",
      "                                                                 \n",
      " dense_1 (Dense)             (None, 64)                4160      \n",
      "                                                                 \n",
      " dense_2 (Dense)             (None, 10)                650       \n",
      "                                                                 \n",
      "=================================================================\n",
      "Total params: 55,050\n",
      "Trainable params: 55,050\n",
      "Non-trainable params: 0\n",
      "_________________________________________________________________\n"
     ]
    }
   ],
   "source": [
    "# Show a summary\n",
    "model.summary()"
   ]
  },
  {
   "cell_type": "code",
   "execution_count": 8,
   "metadata": {},
   "outputs": [
    {
     "data": {
      "image/png": "[encoded data removed]",
      "text/plain": [
       "<IPython.core.display.Image object>"
      ]
     },
     "execution_count": 8,
     "metadata": {},
     "output_type": "execute_result"
    }
   ],
   "source": [
    "# Display a graphic model\n",
    "\n",
    "import pydot\n",
    "keras.utils.plot_model(model, \"functional_model.png\", show_shapes=True)"
   ]
  },
  {
   "cell_type": "markdown",
   "metadata": {},
   "source": [
    "#API overview: a first end-to-end example\n",
    "===============\n",
    "When passing data to the built-in training loops of a model, you should either use NumPy arrays (if your data is small and fits in memory) or tf.data.Dataset objects. In the next few paragraphs, we'll use the MNIST dataset as NumPy arrays, in order to demonstrate how to use optimizers, losses, and metrics.\n",
    "\n",
    "Let's consider the following model (here, we build in with the Functional API, but it could be a Sequential model or a subclassed model as well):"
   ]
  },
  {
   "cell_type": "code",
   "execution_count": 9,
   "metadata": {},
   "outputs": [
    {
     "name": "stdout",
     "output_type": "stream",
     "text": [
      "Model: \"test_model\"\n",
      "_________________________________________________________________\n",
      " Layer (type)                Output Shape              Param #   \n",
      "=================================================================\n",
      " input_1 (InputLayer)        [(None, 784)]             0         \n",
      "                                                                 \n",
      " dense (Dense)               (None, 64)                50240     \n",
      "                                                                 \n",
      " dense_1 (Dense)             (None, 64)                4160      \n",
      "                                                                 \n",
      " dense_2 (Dense)             (None, 10)                650       \n",
      "                                                                 \n",
      "=================================================================\n",
      "Total params: 55,050\n",
      "Trainable params: 55,050\n",
      "Non-trainable params: 0\n",
      "_________________________________________________________________\n"
     ]
    }
   ],
   "source": [
    "model.summary()"
   ]
  },
  {
   "cell_type": "markdown",
   "metadata": {},
   "source": [
    "Here's what the typical end-to-end workflow looks like, consisting of:\n",
    "\n",
    "1. Training\n",
    "2. Validation on a holdout set generated from the original training data\n",
    "3. Evaluation on the test data\n",
    "\n",
    "We'll use MNIST data for this example.\n",
    "\n",
    "https://keras.io/guides/training_with_built_in_methods/"
   ]
  },
  {
   "cell_type": "code",
   "execution_count": 10,
   "metadata": {},
   "outputs": [],
   "source": [
    "'''\n",
    "This code loads the MNIST dataset using the load_data() function from keras.datasets.mnist. \n",
    "It returns four NumPy arrays: x_train, y_train, x_test, and y_test. \n",
    "x_train and x_test contain the images (pixel data) of handwritten digits, \n",
    "while y_train and y_test contain the corresponding labels (digits from 0 to 9).\n",
    "'''\n",
    "\n",
    "(x_train, y_train), (x_test, y_test) = keras.datasets.mnist.load_data()"
   ]
  },
  {
   "cell_type": "code",
   "execution_count": 11,
   "metadata": {},
   "outputs": [],
   "source": [
    "'''\n",
    "The images in x_train are reshaped from 28x28 matrices to a flat array of 784 elements. \n",
    "Each image is transformed into a 1D array of pixel values. \n",
    "The astype(\"float32\") converts the pixel values to 32-bit floating-point numbers, \n",
    "and then the pixel values are normalized by dividing them by 255. \n",
    "Normalizing the pixel values to the range [0, 1] helps in faster convergence of the neural network during training.\n",
    "The same preprocessing is applied to the test set, x_test, to reshape and normalize the pixel values.\n",
    "The labels y_train and y_test are converted to 32-bit floating-point numbers.\n",
    "This conversion is done to ensure consistency in data types during training and evaluation.\n",
    "'''\n",
    "\n",
    "x_train = x_train.reshape(60000, 784).astype(\"float32\") / 255\n",
    "x_test = x_test.reshape(10000, 784).astype(\"float32\") / 255\n",
    "y_train = y_train.astype(\"float32\")\n",
    "y_test = y_test.astype(\"float32\")"
   ]
  },
  {
   "cell_type": "code",
   "execution_count": 12,
   "metadata": {},
   "outputs": [],
   "source": [
    "# Reserve 10,000 samples for validation\n",
    "\n",
    "'''\n",
    "The last 10,000 samples from the training set are separated to create a validation set. \n",
    "This validation set will be used during training to monitor the model's performance and prevent overfitting.\n",
    "'''\n",
    "\n",
    "x_val = x_train[-10000:]\n",
    "y_val = y_train[-10000:]\n",
    "x_train = x_train[:-10000]\n",
    "y_train = y_train[:-10000]"
   ]
  },
  {
   "cell_type": "code",
   "execution_count": 13,
   "metadata": {},
   "outputs": [
    {
     "data": {
      "text/plain": [
       "array([3., 8., 6., ..., 5., 6., 8.], dtype=float32)"
      ]
     },
     "execution_count": 13,
     "metadata": {},
     "output_type": "execute_result"
    }
   ],
   "source": [
    "y_val"
   ]
  },
  {
   "cell_type": "code",
   "execution_count": 14,
   "metadata": {},
   "outputs": [],
   "source": [
    "'''\n",
    "The next steps are to perform the compilation and training of a neural \n",
    "network model using TensorFlow and Keras for the MNIST dataset.\n",
    "The method compile configures the model for training. \n",
    "It specifies the optimizer, loss function, and evaluation metrics for the model\n",
    "'''\n",
    "\n",
    "model.compile(\n",
    "    optimizer=keras.optimizers.RMSprop(),\n",
    "    loss=keras.losses.SparseCategoricalCrossentropy(from_logits=True),\n",
    "    metrics=[keras.metrics.SparseCategoricalAccuracy()]\n",
    "    \n",
    "# The RMSprop optimizer is used for updating the model's weights during training\n",
    "# The Sparse Categorical Crossentropy loss function is used for calculating the model's loss during training\n",
    "# The Sparse Categorical Accuracy metric is used to monitor the accuracy of the model during training\n",
    "\n",
    ")"
   ]
  },
  {
   "cell_type": "markdown",
   "metadata": {},
   "source": [
    "The <b>optimizer</b> is responsible for updating the model's weights and biases (also known as model's parameters) \n",
    "iteratively during training process to minimize the loss function. \n",
    "The optimization process involves finding the optimal set of model parameters\n",
    "that results in the smallest possible value of the loss function. \n",
    "This optimization is often performed through an iterative process known as gradient descent or its variants.\n",
    "During each iteration of the training process, the optimizer calculates the gradients of the loss function with respect \n",
    "to the model's parameters. These gradients indicate the direction and magnitude of the steepest increase in the loss function.\n",
    "The optimizer then uses these gradients to update the model's parameters in the opposite direction to reduce the loss. \n",
    "The magnitude of the update is controlled by a learning rate, which determines how much the model's \n",
    "parameters should change at each step.\n",
    "The optimization process continues for multiple epochs, during which the optimizer repeatedly updates the model's parameters, \n",
    "gradually improving its performance on the training data.\n",
    "The choice of optimizer can significantly impact the convergence speed and the quality of the model's final results. \n",
    "Some popular optimizers include Stochastic Gradient Descent (SGD), Adam, RMSprop, and others\n",
    "\n",
    "The <b>loss function</b>, also known as a cost function or objective function, is used to measure \n",
    "how well a model is performing on a given task or problem. \n",
    "It quantifies the difference between the predicted output of the model and the true target values in the training data. \n",
    "The choice of the loss function depends on the task type, such as classification or regression. \n",
    "Selecting an appropriate loss function is essential, as it guides the model to learn meaningful representations from the data.\n",
    "For example, in classification tasks, the cross-entropy loss (binary or categorical) is commonly used, \n",
    "while mean squared error (MSE) loss is used for regression tasks.\n",
    "The ultimate objective is to find a set of model parameters that result in the smallest possible loss, \n",
    "indicating the model's best performance on the task at hand.\n",
    "\n",
    "<b>Evaluation metrics</b> are used to measure the model's performance during and after training. \n",
    "These metrics are useful for assessing how well the model is performing on tasks such as \n",
    "classification or regression on the validation or test set. \n",
    "Common evaluation metrics vary depending on the type of machine learning task:\n",
    "<ul>\n",
    "<li>Classification tasks: Accuracy, precision, recall, F1-score, ROC-AUC, etc.\n",
    "</li>\n",
    "<li>Regression tasks: Mean Squared Error (MSE), Mean Absolute Error (MAE), R-squared, etc.\n",
    "</li>\n",
    "</ul> \n",
    "\n",
    "The main purposes of evaluation metrics are as follows:\n",
    "1. Model Comparison: Evaluation metrics allow you to compare the performance of different models \n",
    "and determine which one is better suited for a specific task. For example, in a binary classification task, \n",
    "you can compare the accuracy, precision, recall, and F1-score of multiple models \n",
    "to select the one with the best overall performance.\n",
    "2. Model Selection: Evaluation metrics help in selecting the best model from a set of candidate models. \n",
    "A model with higher accuracy or better performance on other evaluation metrics is usually chosen for deployment.\n",
    "3. Hyperparameter Tuning: Evaluation metrics are used during hyperparameter tuning \n",
    "to find the best combination of hyperparameters that maximize the model's performance.\n",
    "4. Early Stopping: During training, evaluation metrics are monitored to implement early stopping. \n",
    "If the model's performance on the validation dataset does not improve or starts to deteriorate, \n",
    "training can be stopped early to avoid overfitting and save computational resources."
   ]
  },
  {
   "cell_type": "code",
   "execution_count": 15,
   "metadata": {},
   "outputs": [
    {
     "name": "stdout",
     "output_type": "stream",
     "text": [
      "Epoch 1/2\n",
      "625/625 [==============================] - 4s 5ms/step - loss: 0.3690 - sparse_categorical_accuracy: 0.8968 - val_loss: 0.2239 - val_sparse_categorical_accuracy: 0.9319\n",
      "Epoch 2/2\n",
      "625/625 [==============================] - 2s 4ms/step - loss: 0.1672 - sparse_categorical_accuracy: 0.9499 - val_loss: 0.1671 - val_sparse_categorical_accuracy: 0.9520\n"
     ]
    },
    {
     "data": {
      "text/plain": [
       "\"\\nx_train and y_train are the training data.\\nbatch_size=64: The batch size determines how many samples are processed together before updating the model's weights.\\nepochs=2: The number of epochs is the number of times the entire dataset is passed through the model during training.\\nvalidation_data=(x_val, y_val): The validation data is used to evaluate the model's performance during training.\\nif you already have a specific validation dataset that is different from the training data. \\nThis method gives more control over the validation process and allows you to use specific data for validation \\nthat is not part of the training data.\\nBut sometimes you can do it by using the validation_split argument.\\nIt is convenient when you want to quickly allocate a portion of the training data for validation without creating \\nseparate validation arrays specifying the fraction of the training data to use for validation, like as validation_split=0.2\\n\""
      ]
     },
     "execution_count": 15,
     "metadata": {},
     "output_type": "execute_result"
    }
   ],
   "source": [
    "# This method trains the model on the provided training data\n",
    "\n",
    "history = model.fit(x_train, y_train, batch_size=64, epochs=2, validation_split=0.2)\n",
    "\n",
    "'''\n",
    "x_train and y_train are the training data.\n",
    "batch_size=64: The batch size determines how many samples are processed together before updating the model's weights.\n",
    "epochs=2: The number of epochs is the number of times the entire dataset is passed through the model during training.\n",
    "validation_data=(x_val, y_val): The validation data is used to evaluate the model's performance during training.\n",
    "if you already have a specific validation dataset that is different from the training data. \n",
    "This method gives more control over the validation process and allows you to use specific data for validation \n",
    "that is not part of the training data.\n",
    "But sometimes you can do it by using the validation_split argument.\n",
    "It is convenient when you want to quickly allocate a portion of the training data for validation without creating \n",
    "separate validation arrays specifying the fraction of the training data to use for validation, like as validation_split=0.2\n",
    "'''"
   ]
  },
  {
   "cell_type": "code",
   "execution_count": 16,
   "metadata": {},
   "outputs": [
    {
     "data": {
      "text/plain": [
       "{'loss': [0.36896899342536926, 0.16721712052822113],\n",
       " 'sparse_categorical_accuracy': [0.8968499898910522, 0.9498500227928162],\n",
       " 'val_loss': [0.22391797602176666, 0.16705213487148285],\n",
       " 'val_sparse_categorical_accuracy': [0.9319000244140625, 0.9520000219345093]}"
      ]
     },
     "execution_count": 16,
     "metadata": {},
     "output_type": "execute_result"
    }
   ],
   "source": [
    "#The returned history object holds a record of the loss values and metric values during training:\n",
    "\n",
    "history.history"
   ]
  },
  {
   "cell_type": "code",
   "execution_count": 17,
   "metadata": {},
   "outputs": [
    {
     "data": {
      "text/plain": [
       "keras.callbacks.History"
      ]
     },
     "execution_count": 17,
     "metadata": {},
     "output_type": "execute_result"
    }
   ],
   "source": [
    "type(history)"
   ]
  },
  {
   "cell_type": "code",
   "execution_count": 18,
   "metadata": {},
   "outputs": [
    {
     "name": "stdout",
     "output_type": "stream",
     "text": [
      "79/79 - 0s - loss: 0.1395 - sparse_categorical_accuracy: 0.9582 - 310ms/epoch - 4ms/step\n",
      "Test loss: 0.13945473730564117\n",
      "Test accuracy: 0.9581999778747559\n"
     ]
    }
   ],
   "source": [
    "# Evaluate the model on the test data using `evaluate`\n",
    "\n",
    "test_scores = model.evaluate(x_test, y_test, batch_size=128, verbose=2)\n",
    "\n",
    "''' \n",
    "Performs the evaluation of a trained machine learning model on a test dataset (x_test and y_test) \n",
    "to assess its performance on unseen data. The evaluate method is used to compute the test scores or performance metrics of the model.\n",
    "\n",
    "1. test_scores = model.evaluate(x_test, y_test, verbose=2): This line evaluates the trained model on the test dataset \n",
    "(x_test and y_test). The evaluate` method computes the loss and any specified evaluation metrics on the test data.\n",
    "\n",
    "2. test_scores: The evaluate method returns the test scores, which include the computed loss value and \n",
    "any specified evaluation metrics (e.g., accuracy, precision, recall, etc.). \n",
    "These scores indicate how well the model performs on the unseen test data.\n",
    "'''\n",
    "\n",
    "print(\"Test loss:\", test_scores[0]) # The test_scores[0] contains the test loss value, which is the computed value of the loss function on the test data\n",
    "print(\"Test accuracy:\", test_scores[1]) # The test_scores[1] contains the test accuracy value, which is the computed value of the accuracy metric on the test data.\n"
   ]
  },
  {
   "cell_type": "code",
   "execution_count": 19,
   "metadata": {},
   "outputs": [
    {
     "name": "stdout",
     "output_type": "stream",
     "text": [
      "Generate predictions for 3 samples\n",
      "1/1 [==============================] - 0s 153ms/step\n",
      "predictions shape: (3, 10)\n"
     ]
    }
   ],
   "source": [
    "# Generate predictions (probabilities -- the output of the last layer)\n",
    "# on new data using `predict`\n",
    "print(\"Generate predictions for 3 samples\")\n",
    "predictions = model.predict(x_test[:3])\n",
    "print(\"predictions shape:\", predictions.shape)"
   ]
  },
  {
   "cell_type": "markdown",
   "metadata": {},
   "source": [
    "# #Save and serialize\n",
    "The standard way to save a functional model is to call model.save() to save the entire model as a single file. You can later recreate the same model from this file, even if the code that built the model is no longer available."
   ]
  },
  {
   "cell_type": "code",
   "execution_count": 20,
   "metadata": {},
   "outputs": [],
   "source": [
    "model.save(\"functional_model.keras\")\n",
    "del model\n",
    "# Recreate the exact same model purely from the file:\n",
    "model = keras.models.load_model(\"functional_model.keras\")"
   ]
  },
  {
   "cell_type": "markdown",
   "metadata": {},
   "source": [
    "# #Reusing models\n",
    "In the functional API of Keras, models are created by defining a directed acyclic graph (DAG) of layers, where the layers represent different transformations applied to the input data. Each layer takes one or more inputs and produces one or more outputs, and these inputs and outputs are connected to each other to create the model architecture.\n",
    "\n",
    "The key concept in the functional API is that the graph of layers is used to define the relationships between inputs and outputs, and this graph can be reused to create multiple models. Each model can be created by specifying different inputs and outputs from the same graph of layers.\n",
    "\n",
    "Let's break down the explanation:\n",
    "\n",
    "Defining a Graph of Layers: In the functional API, we define a graph of layers by creating instances of different layer classes and connecting them together. The input to the graph is usually represented by an Input layer, and the output is usually obtained from one or more layers in the graph.\n",
    "\n",
    "Multiple Models: Once we have defined the graph of layers, we can create multiple models by specifying different inputs and outputs. We can reuse the same graph to create different models with various input-output configurations.\n",
    "\n",
    "Shared Weights: When we use the same graph of layers to create multiple models, the weights of the layers are shared among these models. This means that if we train one model using a particular set of inputs and outputs, the weights learned during training will be shared when we use the same layers to create another model with different inputs and outputs. This is particularly useful in transfer learning scenarios, where we can fine-tune a pre-trained model for a different task.\n",
    "\n",
    "By creating models based on a single graph of layers, the functional API provides a more flexible and modular way of defining complex architectures with shared layers, multiple inputs, and multiple outputs. This allows for efficient experimentation and reusability of model components, making it easier to develop and maintain sophisticated deep learning architectures."
   ]
  },
  {
   "cell_type": "code",
   "execution_count": 21,
   "metadata": {},
   "outputs": [],
   "source": [
    "'''\n",
    "\n",
    "https://www.geeksforgeeks.org/cifar-10-image-classification-in-tensorflow/\n",
    "\n",
    "Here we can see we have 5000 training images and 1000 test images\n",
    "as specified above and all the images are of 32 by 32 size\n",
    "and have 3 color channels i.e. images are color images. \n",
    "As well as it is also visible that there is only a single label assigned with each image.\n",
    "\n",
    "Loaging dataset\n",
    "\n",
    "'''\n",
    "\n",
    "(x_train, y_train), (x_test, y_test) = keras.datasets.cifar10.load_data()\n",
    "\n",
    "assert x_train.shape == (50000, 32, 32, 3)\n",
    "assert y_train.shape == (50000, 1)\n",
    "\n",
    "assert x_test.shape == (10000, 32, 32, 3)\n",
    "assert y_test.shape == (10000, 1)\n",
    "\n",
    "# Reduce pixel values\n",
    "x_train, x_test = x_train / 255.0, x_test / 255.0\n",
    " \n",
    "# flatten the label values\n",
    "y_train, y_test = y_train.flatten(), y_test.flatten()"
   ]
  },
  {
   "cell_type": "code",
   "execution_count": 22,
   "metadata": {},
   "outputs": [
    {
     "ename": "",
     "evalue": "",
     "output_type": "error",
     "traceback": [
      "\u001b[1;31mCannot execute code, session has been disposed. Please try restarting the Kernel."
     ]
    },
    {
     "ename": "",
     "evalue": "",
     "output_type": "error",
     "traceback": [
      "\u001b[1;31mThe Kernel crashed while executing code in the the current cell or a previous cell. Please review the code in the cell(s) to identify a possible cause of the failure. Click <a href='https://aka.ms/vscodeJupyterKernelCrash'>here</a> for more info. View Jupyter <a href='command:jupyter.viewOutput'>log</a> for further details."
     ]
    }
   ],
   "source": [
    "# visualize data by plotting images\n",
    "\n",
    "fig, ax = plt.subplots(5, 5)\n",
    "k = 0\n",
    " \n",
    "for i in range(5):\n",
    "    for j in range(5):\n",
    "        ax[i][j].imshow(x_train[k], aspect='auto')\n",
    "        k += 1\n",
    " \n"
   ]
  },
  {
   "cell_type": "code",
   "execution_count": null,
   "metadata": {},
   "outputs": [],
   "source": [
    "plt.show()"
   ]
  },
  {
   "cell_type": "code",
   "execution_count": null,
   "metadata": {},
   "outputs": [],
   "source": [
    "# number of classes\n",
    "K = len(set(y_train))\n",
    " \n",
    "# calculate total number of classes\n",
    "# for output layer\n",
    "print(\"number of classes:\", K)"
   ]
  },
  {
   "cell_type": "code",
   "execution_count": null,
   "metadata": {},
   "outputs": [],
   "source": [
    "\n",
    "# Build the model using the functional API\n",
    "# Encoder Part\n",
    "\n",
    "# creates an input layer with the shape (32, 32, 3), representing grayscale images of size 32x32 pixels.\n",
    "i = layers.Input(shape = x_train[0].shape)\n",
    "x = layers.Conv2D(32, (3, 3), activation='relu', padding='same')(i)    # applies a 2D convolutional layer with 32 filters of size 3x3 to the input.\n",
    "                                                                # The relu activation function is used.\n",
    "\n",
    "x = layers.BatchNormalization()(x) # applies BatchNormalization to the input data\n",
    "x = layers.Conv2D(32, (3, 3), activation='relu', padding='same')(x)    # Another 2D convolutional layer is applied with 32 filters of size 3x3 to \n",
    "                                                                # the output of the previous layer\n",
    "x = layers.BatchNormalization()(x)\n",
    "x = layers.MaxPooling2D((2, 2))(x) # A 2D max pooling layer with pool size 2x2 is applied to reduce the spatial dimensions of the data.\n",
    "\n",
    "x = layers.Conv2D(64, (3, 3), activation='relu', padding='same')(x)\n",
    "x = layers.BatchNormalization()(x)\n",
    "x = layers.Conv2D(64, (3, 3), activation='relu', padding='same')(x)\n",
    "x = layers.BatchNormalization()(x)\n",
    "x = layers.MaxPooling2D((2, 2))(x)\n",
    "\n",
    "x = layers.Conv2D(128, (3, 3), activation='relu', padding='same')(x)\n",
    "x = layers.BatchNormalization()(x)\n",
    "x = layers.Conv2D(128, (3, 3), activation='relu', padding='same')(x)\n",
    "x = layers.BatchNormalization()(x)\n",
    "x = layers.MaxPooling2D((2, 2))(x)"
   ]
  },
  {
   "cell_type": "code",
   "execution_count": null,
   "metadata": {},
   "outputs": [],
   "source": [
    "# Output of the Encoder (Compressed Representation)\n",
    "encoder_output = layers.Flatten()(x)\n",
    "\n",
    "# Encoder Model\n",
    "encoder = keras.Model(i, encoder_output, name=\"encoder\")"
   ]
  },
  {
   "cell_type": "code",
   "execution_count": null,
   "metadata": {},
   "outputs": [],
   "source": [
    "# Decoder Part\n",
    "x = layers.Dense(1024, activation='relu')(encoder_output)\n",
    "x = layers.Dropout(0.2)(x)\n",
    "x = layers.Dense(2048, activation='relu')(x)\n",
    "x = layers.Dropout(0.2)(x)\n",
    "x = layers.Dense(8192, activation='relu')(x)\n",
    "x = layers.Reshape((4, 4, 512))(x)\n",
    "\n",
    "x = layers.Conv2DTranspose(128, (3, 3), activation='relu', padding='same')(x)\n",
    "x = layers.BatchNormalization()(x)\n",
    "x = layers.Conv2DTranspose(64, (3, 3), activation='relu', padding='same')(x)\n",
    "x = layers.BatchNormalization()(x)\n",
    "x = layers.UpSampling2D((2, 2))(x)\n",
    "\n",
    "x = layers.Conv2DTranspose(64, (3, 3), activation='relu', padding='same')(x)\n",
    "x = layers.BatchNormalization()(x)\n",
    "x = layers.Conv2DTranspose(32, (3, 3), activation='relu', padding='same')(x)\n",
    "x = layers.BatchNormalization()(x)\n",
    "x = layers.UpSampling2D((2, 2))(x)\n",
    "\n",
    "x = layers.Conv2DTranspose(32, (3, 3), activation='relu', padding='same')(x)\n",
    "x = layers.BatchNormalization()(x)\n",
    "\n",
    "decoder_output = layers.Conv2DTranspose(1, (3, 3), activation='relu', padding='same')(x)"
   ]
  },
  {
   "cell_type": "code",
   "execution_count": null,
   "metadata": {},
   "outputs": [],
   "source": [
    "# Decoder Model\n",
    "decoder = keras.Model(encoder_output, decoder_output, name=\"decoder\")\n",
    "\n",
    "# Autoencoder Model\n",
    "autoencoder_output = decoder(encoder_output)\n",
    "autoencoder = keras.Model(i, autoencoder_output, name=\"autoencoder\")"
   ]
  },
  {
   "cell_type": "code",
   "execution_count": null,
   "metadata": {},
   "outputs": [],
   "source": [
    "encoder.summary()"
   ]
  },
  {
   "cell_type": "code",
   "execution_count": null,
   "metadata": {},
   "outputs": [],
   "source": [
    "decoder.summary()"
   ]
  },
  {
   "cell_type": "code",
   "execution_count": null,
   "metadata": {},
   "outputs": [],
   "source": [
    "autoencoder.summary()"
   ]
  },
  {
   "cell_type": "code",
   "execution_count": null,
   "metadata": {},
   "outputs": [],
   "source": [
    "# plot the autoencoder\n",
    "from tensorflow.keras.utils import plot_model\n",
    "\n",
    "plot_model(encoder, 'encoder_compress.png', show_shapes=True)"
   ]
  },
  {
   "cell_type": "code",
   "execution_count": null,
   "metadata": {},
   "outputs": [],
   "source": [
    "plot_model(autoencoder, 'autoencoder_compress.png', show_shapes=True)"
   ]
  },
  {
   "cell_type": "code",
   "execution_count": null,
   "metadata": {},
   "outputs": [],
   "source": [
    "# Compiling models\n",
    "\n",
    "'''\n",
    "This is the step to define weigths\n",
    "If you do not compile metrics or evaluate your model, you'll receive a warning:\n",
    "WARNING:tensorflow:Compiled the loaded model, but the compiled metrics have yet to be built.\n",
    "`model.compile_metrics` will be empty until you train or evaluate the model.\n",
    "'''\n",
    "\n",
    "encoder.compile(optimizer='adam', loss='binary_crossentropy')\n",
    "autoencoder.compile(optimizer='adam', loss='binary_crossentropy')"
   ]
  },
  {
   "cell_type": "code",
   "execution_count": null,
   "metadata": {},
   "outputs": [],
   "source": [
    "\n",
    "# fit the autoencoder model to reconstruct input\n",
    "history = encoder.fit(x_train, y_train, epochs=10, batch_size=32, verbose=2, validation_data=(x_test, y_test))\n"
   ]
  },
  {
   "cell_type": "code",
   "execution_count": null,
   "metadata": {},
   "outputs": [],
   "source": [
    "# https://towardsdatascience.com/transfer-learning-on-greyscale-images-how-to-fine-tune-pretrained-models-on-black-and-white-9a5150755c7a\n",
    "# https://www.projectpro.io/recipes/run-and-fit-data-with-keras-model\n",
    "# https://machinelearningmastery.com/how-to-load-convert-and-save-images-with-the-keras-api/\n",
    "# https://keras.io/examples/\n"
   ]
  },
  {
   "cell_type": "code",
   "execution_count": null,
   "metadata": {},
   "outputs": [],
   "source": [
    "# Saving\n",
    "\n",
    "encoder.save(\"functional_autoenconder_model.keras\")\n",
    "autoencoder.save(\"functional_enconder_model.keras\")"
   ]
  },
  {
   "cell_type": "code",
   "execution_count": null,
   "metadata": {},
   "outputs": [],
   "source": [
    "'''\n",
    "In the example above, the stack of layers instantiate two models:\n",
    "- an encoder model that turns image inputs into 16-dimensional vectors, \n",
    "- and an end-to-end autoencoder model for training.\n",
    "\n",
    "Bellow, there's a different take on the autoencoder example that creates an encoder model, \n",
    "a decoder model, and chains them in two calls to obtain the autoencoder model:\n",
    "\n",
    "'''\n",
    "\n",
    "# 1st model\n",
    "encoder_input = keras.Input(shape=(28, 28, 1), name=\"original_img\")\n",
    "x = layers.Conv2D(16, 3, activation=\"relu\")(encoder_input)\n",
    "x = layers.Conv2D(32, 3, activation=\"relu\")(x)\n",
    "x = layers.MaxPooling2D(3)(x)\n",
    "x = layers.Conv2D(32, 3, activation=\"relu\")(x)\n",
    "x = layers.Conv2D(16, 3, activation=\"relu\")(x)\n",
    "encoder_output = layers.GlobalMaxPooling2D()(x)\n",
    "\n",
    "encoder = keras.Model(encoder_input, encoder_output, name=\"encoder\")\n",
    "encoder.summary()\n",
    "\n",
    "# 2nd model\n",
    "decoder_input = keras.Input(shape=(16,), name=\"encoded_img\")\n",
    "x = layers.Reshape((4, 4, 1))(decoder_input)\n",
    "x = layers.Conv2DTranspose(16, 3, activation=\"relu\")(x)\n",
    "x = layers.Conv2DTranspose(32, 3, activation=\"relu\")(x)\n",
    "x = layers.UpSampling2D(3)(x)\n",
    "x = layers.Conv2DTranspose(16, 3, activation=\"relu\")(x)\n",
    "decoder_output = layers.Conv2DTranspose(1, 3, activation=\"relu\")(x)\n",
    "\n",
    "decoder = keras.Model(decoder_input, decoder_output, name=\"decoder\")\n",
    "decoder.summary()\n",
    "\n",
    "autoencoder_input = keras.Input(shape=(28, 28, 1), name=\"img\")\n",
    "encoded_img = encoder(autoencoder_input)\n",
    "decoded_img = decoder(encoded_img)\n",
    "autoencoder = keras.Model(autoencoder_input, decoded_img, name=\"autoencoder\")\n",
    "autoencoder.summary()"
   ]
  },
  {
   "cell_type": "code",
   "execution_count": null,
   "metadata": {},
   "outputs": [],
   "source": [
    "'''\n",
    "This code defines an autoencoder model using the Keras functional API.\n",
    "In the given code, encoder(autoencoder_input) treats the encoder model as a function \n",
    "that takes the autoencoder_input tensor as input and produces the encoded_img tensor as output. \n",
    "It applies the encoder model to the input data to obtain the compressed representation in the latent space.\n",
    "\n",
    "The code defines an autoencoder architecture, consisting of an encoder part followed by a decoder part. \n",
    "The autoencoder is a type of neural network used for unsupervised learning, where it attempts to \n",
    "reconstruct the input data at its output, thus learning a compressed representation (latent space) of the input data. \n",
    "The encoder part compresses the input data into a lower-dimensional representation, and the decoder part tries to \n",
    "reconstruct the original data from this representation.\n",
    "\n",
    "'''\n",
    "\n",
    "autoencoder_input = keras.Input(shape=(28, 28, 1), name=\"img\") #creates an input layer for the autoencoder model.\n",
    "\n",
    "encoded_img = encoder(autoencoder_input)    # The code passes the autoencoder_input through the previously defined encoder model (encoder).\n",
    "                                            # This operation compresses the input images into a lower-dimensional representation (latent space) \n",
    "                                            # using the encoder.\n",
    "\n",
    "decoded_img = decoder(encoded_img)  # The code then takes the output of the encoder (encoded_img) \n",
    "                                    # and passes it through the previously defined decoder model (decoder). \n",
    "                                    # This operation reconstructs the original images from the compressed representation \n",
    "                                    # in the latent space using the decoder.\n",
    "\n",
    "autoencoder = keras.Model(autoencoder_input, decoded_img, name=\"autoencoder\")   # The autoencoder takes the autoencoder_input and outputs \n",
    "                                                                                # the decoded_img, representing the reconstructed images. \n",
    "                                                                                # It creates an instance of the keras.Model \n",
    "\n",
    "autoencoder.summary()"
   ]
  },
  {
   "cell_type": "code",
   "execution_count": null,
   "metadata": {},
   "outputs": [],
   "source": [
    "encoder.summary()"
   ]
  },
  {
   "cell_type": "code",
   "execution_count": null,
   "metadata": {},
   "outputs": [],
   "source": [
    "decoder.summary()"
   ]
  },
  {
   "cell_type": "code",
   "execution_count": null,
   "metadata": {},
   "outputs": [],
   "source": []
  }
 ],
 "metadata": {
  "kernelspec": {
   "display_name": "py31012",
   "language": "python",
   "name": "python3"
  },
  "language_info": {
   "codemirror_mode": {
    "name": "ipython",
    "version": 3
   },
   "file_extension": ".py",
   "mimetype": "text/x-python",
   "name": "python",
   "nbconvert_exporter": "python",
   "pygments_lexer": "ipython3",
   "version": "3.10.12"
  },
  "orig_nbformat": 4
 },
 "nbformat": 4,
 "nbformat_minor": 2
}
