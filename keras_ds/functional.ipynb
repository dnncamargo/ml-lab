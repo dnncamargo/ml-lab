{
 "cells": [
  {
   "cell_type": "markdown",
   "metadata": {},
   "source": [
    "The Functional API\n",
    "===============\n",
    "\n",
    "https://keras.io/guides/functional_api/"
   ]
  },
  {
   "cell_type": "code",
   "execution_count": 2,
   "metadata": {},
   "outputs": [],
   "source": [
    "#Setup\n",
    "\n",
    "try:\n",
    "    import tensorflow as tf\n",
    "    from tensorflow import keras\n",
    "    #from keras.models import Sequential\n",
    "    from keras import layers\n",
    "except ImportError as e:\n",
    "    print(f\"Error occurred while importing modules: {e}\")"
   ]
  },
  {
   "cell_type": "code",
   "execution_count": 3,
   "metadata": {},
   "outputs": [
    {
     "name": "stdout",
     "output_type": "stream",
     "text": [
      "keras.layers.Input is available for use.\n",
      "Shape of 'inputs': (None, 784)\n",
      "Data type of 'inputs': <dtype: 'float32'>\n"
     ]
    }
   ],
   "source": [
    "# Start by creating an input node:\n",
    "\n",
    "try:\n",
    "    inputs = layers.Input(shape=(784,))\n",
    "    print(\"keras.layers.Input is available for use.\")\n",
    "    print(f\"Shape of 'inputs': {inputs.shape}\")\n",
    "    print(f\"Data type of 'inputs': {inputs.dtype}\")\n",
    "except (NameError, AttributeError):\n",
    "    print(\"keras.layers.Input is not available.\")"
   ]
  },
  {
   "cell_type": "code",
   "execution_count": 4,
   "metadata": {},
   "outputs": [],
   "source": [
    "# You create a new node in the graph of layers by calling a layer on this inputs object:\n",
    "dense = layers.Dense(64, activation=\"relu\")\n",
    "x = dense(inputs)"
   ]
  },
  {
   "cell_type": "code",
   "execution_count": 5,
   "metadata": {},
   "outputs": [],
   "source": [
    "# To add more layers to the graph of layers:\n",
    "x = layers.Dense(64, activation='relu')(x)"
   ]
  },
  {
   "cell_type": "code",
   "execution_count": 6,
   "metadata": {},
   "outputs": [],
   "source": [
    "# Define the output layer\n",
    "outputs = layers.Dense(10)(x)"
   ]
  },
  {
   "cell_type": "code",
   "execution_count": 28,
   "metadata": {},
   "outputs": [],
   "source": [
    "# Create the output model\n",
    "model = keras.Model(inputs=inputs, outputs=outputs, name=\"test_model\")"
   ]
  },
  {
   "cell_type": "code",
   "execution_count": 29,
   "metadata": {},
   "outputs": [
    {
     "name": "stdout",
     "output_type": "stream",
     "text": [
      "Model: \"test_model\"\n",
      "_________________________________________________________________\n",
      " Layer (type)                Output Shape              Param #   \n",
      "=================================================================\n",
      " input_1 (InputLayer)        [(None, 784)]             0         \n",
      "                                                                 \n",
      " dense (Dense)               (None, 64)                50240     \n",
      "                                                                 \n",
      " dense_1 (Dense)             (None, 64)                4160      \n",
      "                                                                 \n",
      " dense_2 (Dense)             (None, 10)                650       \n",
      "                                                                 \n",
      "=================================================================\n",
      "Total params: 55,050\n",
      "Trainable params: 55,050\n",
      "Non-trainable params: 0\n",
      "_________________________________________________________________\n"
     ]
    }
   ],
   "source": [
    "# Show a summary\n",
    "model.summary()"
   ]
  },
  {
   "cell_type": "code",
   "execution_count": 13,
   "metadata": {},
   "outputs": [
    {
     "data": {
      "image/png": "[encoded data removed]",
      "text/plain": [
       "<IPython.core.display.Image object>"
      ]
     },
     "execution_count": 13,
     "metadata": {},
     "output_type": "execute_result"
    }
   ],
   "source": [
    "# Display a graphic model\n",
    "\n",
    "import pydot\n",
    "keras.utils.plot_model(model, \"functional_model.png\", show_shapes=True)"
   ]
  },
  {
   "cell_type": "markdown",
   "metadata": {},
   "source": [
    "#API overview: a first end-to-end example\n",
    "===============\n",
    "When passing data to the built-in training loops of a model, you should either use NumPy arrays (if your data is small and fits in memory) or tf.data.Dataset objects. In the next few paragraphs, we'll use the MNIST dataset as NumPy arrays, in order to demonstrate how to use optimizers, losses, and metrics.\n",
    "\n",
    "Let's consider the following model (here, we build in with the Functional API, but it could be a Sequential model or a subclassed model as well):"
   ]
  },
  {
   "cell_type": "code",
   "execution_count": 10,
   "metadata": {},
   "outputs": [
    {
     "name": "stdout",
     "output_type": "stream",
     "text": [
      "Model: \"test_model\"\n",
      "_________________________________________________________________\n",
      " Layer (type)                Output Shape              Param #   \n",
      "=================================================================\n",
      " input_1 (InputLayer)        [(None, 784)]             0         \n",
      "                                                                 \n",
      " dense (Dense)               (None, 64)                50240     \n",
      "                                                                 \n",
      " dense_1 (Dense)             (None, 64)                4160      \n",
      "                                                                 \n",
      " dense_2 (Dense)             (None, 10)                650       \n",
      "                                                                 \n",
      "=================================================================\n",
      "Total params: 55,050\n",
      "Trainable params: 55,050\n",
      "Non-trainable params: 0\n",
      "_________________________________________________________________\n"
     ]
    }
   ],
   "source": [
    "model.summary()"
   ]
  },
  {
   "cell_type": "markdown",
   "metadata": {},
   "source": [
    "Here's what the typical end-to-end workflow looks like, consisting of:\n",
    "\n",
    "1. Training\n",
    "2. Validation on a holdout set generated from the original training data\n",
    "3. Evaluation on the test data\n",
    "\n",
    "We'll use MNIST data for this example.\n",
    "\n",
    "https://keras.io/guides/training_with_built_in_methods/"
   ]
  },
  {
   "cell_type": "code",
   "execution_count": 30,
   "metadata": {},
   "outputs": [],
   "source": [
    "'''\n",
    "This code loads the MNIST dataset using the load_data() function from keras.datasets.mnist. \n",
    "It returns four NumPy arrays: x_train, y_train, x_test, and y_test. \n",
    "x_train and x_test contain the images (pixel data) of handwritten digits, \n",
    "while y_train and y_test contain the corresponding labels (digits from 0 to 9).\n",
    "'''\n",
    "\n",
    "(x_train, y_train), (x_test, y_test) = keras.datasets.mnist.load_data()"
   ]
  },
  {
   "cell_type": "code",
   "execution_count": 32,
   "metadata": {},
   "outputs": [],
   "source": [
    "'''\n",
    "The images in x_train are reshaped from 28x28 matrices to a flat array of 784 elements. \n",
    "Each image is transformed into a 1D array of pixel values. \n",
    "The astype(\"float32\") converts the pixel values to 32-bit floating-point numbers, \n",
    "and then the pixel values are normalized by dividing them by 255. \n",
    "Normalizing the pixel values to the range [0, 1] helps in faster convergence of the neural network during training.\n",
    "The same preprocessing is applied to the test set, x_test, to reshape and normalize the pixel values.\n",
    "The labels y_train and y_test are converted to 32-bit floating-point numbers.\n",
    "This conversion is done to ensure consistency in data types during training and evaluation.\n",
    "'''\n",
    "\n",
    "x_train = x_train.reshape(60000, 784).astype(\"float32\") / 255\n",
    "x_test = x_test.reshape(10000, 784).astype(\"float32\") / 255\n",
    "y_train = y_train.astype(\"float32\")\n",
    "y_test = y_test.astype(\"float32\")"
   ]
  },
  {
   "cell_type": "code",
   "execution_count": 33,
   "metadata": {},
   "outputs": [],
   "source": [
    "# Reserve 10,000 samples for validation\n",
    "\n",
    "'''\n",
    "The last 10,000 samples from the training set are separated to create a validation set. \n",
    "This validation set will be used during training to monitor the model's performance and prevent overfitting.\n",
    "'''\n",
    "\n",
    "x_val = x_train[-10000:]\n",
    "y_val = y_train[-10000:]\n",
    "x_train = x_train[:-10000]\n",
    "y_train = y_train[:-10000]"
   ]
  },
  {
   "cell_type": "code",
   "execution_count": 34,
   "metadata": {},
   "outputs": [
    {
     "data": {
      "text/plain": [
       "array([3., 8., 6., ..., 5., 6., 8.], dtype=float32)"
      ]
     },
     "execution_count": 34,
     "metadata": {},
     "output_type": "execute_result"
    }
   ],
   "source": [
    "y_val"
   ]
  },
  {
   "cell_type": "code",
   "execution_count": 35,
   "metadata": {},
   "outputs": [],
   "source": [
    "'''\n",
    "The next steps are to perform the compilation and training of a neural \n",
    "network model using TensorFlow and Keras for the MNIST dataset.\n",
    "The method compile configures the model for training. \n",
    "It specifies the optimizer, loss function, and evaluation metrics for the model\n",
    "'''\n",
    "\n",
    "model.compile(\n",
    "    optimizer=keras.optimizers.RMSprop(),\n",
    "    loss=keras.losses.SparseCategoricalCrossentropy(from_logits=True),\n",
    "    metrics=[keras.metrics.SparseCategoricalAccuracy()]\n",
    "    \n",
    "# The RMSprop optimizer is used for updating the model's weights during training\n",
    "# The Sparse Categorical Crossentropy loss function is used for calculating the model's loss during training\n",
    "# The Sparse Categorical Accuracy metric is used to monitor the accuracy of the model during training\n",
    "\n",
    ")"
   ]
  },
  {
   "cell_type": "markdown",
   "metadata": {},
   "source": [
    "The <b>optimizer</b> is responsible for updating the model's weights and biases (also known as model's parameters) \n",
    "iteratively during training process to minimize the loss function. \n",
    "The optimization process involves finding the optimal set of model parameters\n",
    "that results in the smallest possible value of the loss function. \n",
    "This optimization is often performed through an iterative process known as gradient descent or its variants.\n",
    "During each iteration of the training process, the optimizer calculates the gradients of the loss function with respect \n",
    "to the model's parameters. These gradients indicate the direction and magnitude of the steepest increase in the loss function.\n",
    "The optimizer then uses these gradients to update the model's parameters in the opposite direction to reduce the loss. \n",
    "The magnitude of the update is controlled by a learning rate, which determines how much the model's \n",
    "parameters should change at each step.\n",
    "The optimization process continues for multiple epochs, during which the optimizer repeatedly updates the model's parameters, \n",
    "gradually improving its performance on the training data.\n",
    "The choice of optimizer can significantly impact the convergence speed and the quality of the model's final results. \n",
    "Some popular optimizers include Stochastic Gradient Descent (SGD), Adam, RMSprop, and others\n",
    "\n",
    "The <b>loss function</b>, also known as a cost function or objective function, is used to measure \n",
    "how well a model is performing on a given task or problem. \n",
    "It quantifies the difference between the predicted output of the model and the true target values in the training data. \n",
    "The choice of the loss function depends on the task type, such as classification or regression. \n",
    "Selecting an appropriate loss function is essential, as it guides the model to learn meaningful representations from the data.\n",
    "For example, in classification tasks, the cross-entropy loss (binary or categorical) is commonly used, \n",
    "while mean squared error (MSE) loss is used for regression tasks.\n",
    "The ultimate objective is to find a set of model parameters that result in the smallest possible loss, \n",
    "indicating the model's best performance on the task at hand.\n",
    "\n",
    "<b>Evaluation metrics</b> are used to measure the model's performance during and after training. \n",
    "These metrics are useful for assessing how well the model is performing on tasks such as \n",
    "classification or regression on the validation or test set. \n",
    "Common evaluation metrics vary depending on the type of machine learning task:\n",
    "<ul>\n",
    "<li>Classification tasks: Accuracy, precision, recall, F1-score, ROC-AUC, etc.\n",
    "</li>\n",
    "<li>Regression tasks: Mean Squared Error (MSE), Mean Absolute Error (MAE), R-squared, etc.\n",
    "</li>\n",
    "</ul> \n",
    "\n",
    "The main purposes of evaluation metrics are as follows:\n",
    "1. Model Comparison: Evaluation metrics allow you to compare the performance of different models \n",
    "and determine which one is better suited for a specific task. For example, in a binary classification task, \n",
    "you can compare the accuracy, precision, recall, and F1-score of multiple models \n",
    "to select the one with the best overall performance.\n",
    "2. Model Selection: Evaluation metrics help in selecting the best model from a set of candidate models. \n",
    "A model with higher accuracy or better performance on other evaluation metrics is usually chosen for deployment.\n",
    "3. Hyperparameter Tuning: Evaluation metrics are used during hyperparameter tuning \n",
    "to find the best combination of hyperparameters that maximize the model's performance.\n",
    "4. Early Stopping: During training, evaluation metrics are monitored to implement early stopping. \n",
    "If the model's performance on the validation dataset does not improve or starts to deteriorate, \n",
    "training can be stopped early to avoid overfitting and save computational resources."
   ]
  },
  {
   "cell_type": "code",
   "execution_count": 36,
   "metadata": {},
   "outputs": [
    {
     "name": "stdout",
     "output_type": "stream",
     "text": [
      "Epoch 1/2\n",
      "625/625 [==============================] - 2s 3ms/step - loss: 0.5309 - sparse_categorical_accuracy: 0.8443 - val_loss: 0.4922 - val_sparse_categorical_accuracy: 0.8491\n",
      "Epoch 2/2\n",
      "625/625 [==============================] - 1s 2ms/step - loss: 0.4500 - sparse_categorical_accuracy: 0.8691 - val_loss: 0.4255 - val_sparse_categorical_accuracy: 0.8748\n"
     ]
    },
    {
     "data": {
      "text/plain": [
       "\"\\nx_train and y_train are the training data.\\nbatch_size=64: The batch size determines how many samples are processed together before updating the model's weights.\\nepochs=2: The number of epochs is the number of times the entire dataset is passed through the model during training.\\nvalidation_data=(x_val, y_val): The validation data is used to evaluate the model's performance during training.\\nif you already have a specific validation dataset that is different from the training data. \\nThis method gives more control over the validation process and allows you to use specific data for validation \\nthat is not part of the training data.\\nBut sometimes you can do it by using the validation_split argument.\\nIt is convenient when you want to quickly allocate a portion of the training data for validation without creating \\nseparate validation arrays specifying the fraction of the training data to use for validation, like as validation_split=0.2\\n\""
      ]
     },
     "execution_count": 36,
     "metadata": {},
     "output_type": "execute_result"
    }
   ],
   "source": [
    "# This method trains the model on the provided training data\n",
    "\n",
    "history = model.fit(x_train, y_train, batch_size=64, epochs=2, validation_split=0.2)\n",
    "\n",
    "'''\n",
    "x_train and y_train are the training data.\n",
    "batch_size=64: The batch size determines how many samples are processed together before updating the model's weights.\n",
    "epochs=2: The number of epochs is the number of times the entire dataset is passed through the model during training.\n",
    "validation_data=(x_val, y_val): The validation data is used to evaluate the model's performance during training.\n",
    "if you already have a specific validation dataset that is different from the training data. \n",
    "This method gives more control over the validation process and allows you to use specific data for validation \n",
    "that is not part of the training data.\n",
    "But sometimes you can do it by using the validation_split argument.\n",
    "It is convenient when you want to quickly allocate a portion of the training data for validation without creating \n",
    "separate validation arrays specifying the fraction of the training data to use for validation, like as validation_split=0.2\n",
    "'''"
   ]
  },
  {
   "cell_type": "code",
   "execution_count": 19,
   "metadata": {},
   "outputs": [
    {
     "data": {
      "text/plain": [
       "{'loss': [1.5444928407669067, 0.7174543738365173],\n",
       " 'sparse_categorical_accuracy': [0.5536500215530396, 0.7842249870300293],\n",
       " 'val_loss': [0.8982301950454712, 0.6014265418052673],\n",
       " 'val_sparse_categorical_accuracy': [0.7138000130653381, 0.8202999830245972]}"
      ]
     },
     "execution_count": 19,
     "metadata": {},
     "output_type": "execute_result"
    }
   ],
   "source": [
    "#The returned history object holds a record of the loss values and metric values during training:\n",
    "\n",
    "history.history"
   ]
  },
  {
   "cell_type": "code",
   "execution_count": 20,
   "metadata": {},
   "outputs": [
    {
     "data": {
      "text/plain": [
       "keras.callbacks.History"
      ]
     },
     "execution_count": 20,
     "metadata": {},
     "output_type": "execute_result"
    }
   ],
   "source": [
    "type(history)"
   ]
  },
  {
   "cell_type": "code",
   "execution_count": 37,
   "metadata": {},
   "outputs": [
    {
     "name": "stdout",
     "output_type": "stream",
     "text": [
      "79/79 - 0s - loss: 0.4012 - sparse_categorical_accuracy: 0.8839 - 128ms/epoch - 2ms/step\n",
      "Test loss: 0.40116575360298157\n",
      "Test accuracy: 0.883899986743927\n"
     ]
    }
   ],
   "source": [
    "# Evaluate the model on the test data using `evaluate`\n",
    "\n",
    "test_scores = model.evaluate(x_test, y_test, batch_size=128, verbose=2)\n",
    "\n",
    "''' \n",
    "Performs the evaluation of a trained machine learning model on a test dataset (x_test and y_test) \n",
    "to assess its performance on unseen data. The evaluate method is used to compute the test scores or performance metrics of the model.\n",
    "\n",
    "1. test_scores = model.evaluate(x_test, y_test, verbose=2): This line evaluates the trained model on the test dataset \n",
    "(x_test and y_test). The evaluate` method computes the loss and any specified evaluation metrics on the test data.\n",
    "\n",
    "2. test_scores: The evaluate method returns the test scores, which include the computed loss value and \n",
    "any specified evaluation metrics (e.g., accuracy, precision, recall, etc.). \n",
    "These scores indicate how well the model performs on the unseen test data.\n",
    "'''\n",
    "\n",
    "print(\"Test loss:\", test_scores[0]) # The test_scores[0] contains the test loss value, which is the computed value of the loss function on the test data\n",
    "print(\"Test accuracy:\", test_scores[1]) # The test_scores[1] contains the test accuracy value, which is the computed value of the accuracy metric on the test data.\n"
   ]
  },
  {
   "cell_type": "code",
   "execution_count": 38,
   "metadata": {},
   "outputs": [
    {
     "name": "stdout",
     "output_type": "stream",
     "text": [
      "Generate predictions for 3 samples\n",
      "1/1 [==============================] - 0s 56ms/step\n",
      "predictions shape: (3, 10)\n"
     ]
    }
   ],
   "source": [
    "# Generate predictions (probabilities -- the output of the last layer)\n",
    "# on new data using `predict`\n",
    "print(\"Generate predictions for 3 samples\")\n",
    "predictions = model.predict(x_test[:3])\n",
    "print(\"predictions shape:\", predictions.shape)"
   ]
  },
  {
   "cell_type": "markdown",
   "metadata": {},
   "source": [
    "# #Save and serialize\n",
    "The standard way to save a functional model is to call model.save() to save the entire model as a single file. You can later recreate the same model from this file, even if the code that built the model is no longer available."
   ]
  },
  {
   "cell_type": "code",
   "execution_count": 39,
   "metadata": {},
   "outputs": [],
   "source": [
    "model.save(\"functional_model.keras\")\n",
    "del model\n",
    "# Recreate the exact same model purely from the file:\n",
    "model = keras.models.load_model(\"functional_model.keras\")"
   ]
  },
  {
   "cell_type": "markdown",
   "metadata": {},
   "source": [
    "# #Reusing models\n",
    "In the functional API, models are created by specifying their inputs and outputs in a graph of layers. That means that a single graph of layers can be used to generate multiple models."
   ]
  },
  {
   "cell_type": "code",
   "execution_count": 49,
   "metadata": {},
   "outputs": [
    {
     "name": "stdout",
     "output_type": "stream",
     "text": [
      "Model: \"encoder\"\n",
      "_________________________________________________________________\n",
      " Layer (type)                Output Shape              Param #   \n",
      "=================================================================\n",
      " img (InputLayer)            [(None, 32, 32, 3)]       0         \n",
      "                                                                 \n",
      " conv2d_4 (Conv2D)           (None, 30, 30, 16)        448       \n",
      "                                                                 \n",
      " conv2d_5 (Conv2D)           (None, 28, 28, 32)        4640      \n",
      "                                                                 \n",
      " max_pooling2d_1 (MaxPooling  (None, 9, 9, 32)         0         \n",
      " 2D)                                                             \n",
      "                                                                 \n",
      " conv2d_6 (Conv2D)           (None, 7, 7, 32)          9248      \n",
      "                                                                 \n",
      " conv2d_7 (Conv2D)           (None, 5, 5, 16)          4624      \n",
      "                                                                 \n",
      " global_max_pooling2d_1 (Glo  (None, 16)               0         \n",
      " balMaxPooling2D)                                                \n",
      "                                                                 \n",
      "=================================================================\n",
      "Total params: 18,960\n",
      "Trainable params: 18,960\n",
      "Non-trainable params: 0\n",
      "_________________________________________________________________\n"
     ]
    }
   ],
   "source": [
    "'''\n",
    "Encoder Part:\n",
    "\n",
    "'''\n",
    "\n",
    "# creates an input layer with the shape (32, 32, 3), representing grayscale images of size 28x28 pixels.\n",
    "encoder_input = keras.Input(shape=(32, 32, 3), name=\"img\") \n",
    "\n",
    "x = layers.Conv2D(16, 3, activation=\"relu\")(encoder_input)  # applies a 2D convolutional layer with 16 filters of size 3x3 to the input.\n",
    "                                                            # The relu activation function is used.\n",
    "x = layers.Conv2D(32, 3, activation=\"relu\")(x) # Another 2D convolutional layer is applied with 32 filters of size 3x3 to the output of the previous layer\n",
    "x = layers.MaxPooling2D(3)(x) # A 2D max pooling layer with pool size 3x3 is applied to reduce the spatial dimensions of the data.\n",
    "x = layers.Conv2D(32, 3, activation=\"relu\")(x) #Another 2D convolutional layer is applied with 32 filters of size 3x3.\n",
    "x = layers.Conv2D(16, 3, activation=\"relu\")(x) # Another 2D convolutional layer is applied with 16 filters of size 3x3.\n",
    "\n",
    "# The output of the encoder is obtained by applying a global max pooling operation along the spatial dimensions of the data, \n",
    "# resulting in a tensor of shape (batch_size, 16).\n",
    "encoder_output = layers.GlobalMaxPooling2D()(x) \n",
    "\n",
    "# This line defines the encoder model, which takes the encoder_input and outputs the encoder_output. \n",
    "# It creates an instance of the keras.Model class, which represents the encoder part of the autoencoder\n",
    "encoder = keras.Model(encoder_input, encoder_output, name=\"encoder\")\n",
    "\n",
    "encoder.summary()"
   ]
  },
  {
   "cell_type": "code",
   "execution_count": 51,
   "metadata": {},
   "outputs": [
    {
     "name": "stdout",
     "output_type": "stream",
     "text": [
      "Model: \"autoencoder\"\n",
      "_________________________________________________________________\n",
      " Layer (type)                Output Shape              Param #   \n",
      "=================================================================\n",
      " img (InputLayer)            [(None, 32, 32, 3)]       0         \n",
      "                                                                 \n",
      " conv2d_4 (Conv2D)           (None, 30, 30, 16)        448       \n",
      "                                                                 \n",
      " conv2d_5 (Conv2D)           (None, 28, 28, 32)        4640      \n",
      "                                                                 \n",
      " max_pooling2d_1 (MaxPooling  (None, 9, 9, 32)         0         \n",
      " 2D)                                                             \n",
      "                                                                 \n",
      " conv2d_6 (Conv2D)           (None, 7, 7, 32)          9248      \n",
      "                                                                 \n",
      " conv2d_7 (Conv2D)           (None, 5, 5, 16)          4624      \n",
      "                                                                 \n",
      " global_max_pooling2d_1 (Glo  (None, 16)               0         \n",
      " balMaxPooling2D)                                                \n",
      "                                                                 \n",
      " reshape_2 (Reshape)         (None, 4, 4, 1)           0         \n",
      "                                                                 \n",
      " conv2d_transpose_4 (Conv2DT  (None, 6, 6, 16)         160       \n",
      " ranspose)                                                       \n",
      "                                                                 \n",
      " conv2d_transpose_5 (Conv2DT  (None, 8, 8, 32)         4640      \n",
      " ranspose)                                                       \n",
      "                                                                 \n",
      " up_sampling2d_1 (UpSampling  (None, 24, 24, 32)       0         \n",
      " 2D)                                                             \n",
      "                                                                 \n",
      " conv2d_transpose_6 (Conv2DT  (None, 26, 26, 16)       4624      \n",
      " ranspose)                                                       \n",
      "                                                                 \n",
      " conv2d_transpose_7 (Conv2DT  (None, 28, 28, 1)        145       \n",
      " ranspose)                                                       \n",
      "                                                                 \n",
      "=================================================================\n",
      "Total params: 28,529\n",
      "Trainable params: 28,529\n",
      "Non-trainable params: 0\n",
      "_________________________________________________________________\n"
     ]
    },
    {
     "data": {
      "text/plain": [
       "' \\nThe code defines an autoencoder architecture, consisting of an encoder part followed by a decoder part. \\nThe autoencoder is a type of neural network used for unsupervised learning, \\nwhere it attempts to reconstruct the input data at its output, thus learning a compressed representation (latent space)\\n of the input data. The encoder part compresses the input data into a lower-dimensional representation, \\n and the decoder part tries to reconstruct the original data from this representation.\\n '"
      ]
     },
     "execution_count": 51,
     "metadata": {},
     "output_type": "execute_result"
    }
   ],
   "source": [
    "'''\n",
    "Decoder Part:\n",
    "\n",
    "decoder_input = keras.Input(shape=(16,), name=\"encoded_img\")\n",
    "\n",
    "'''\n",
    "# Reshape layer allows us to change the dimensions of our input data. This is particularly useful when we need to prepare our data for specific types of layers or operations that require a certain input shape\n",
    "x = layers.Reshape((4, 4, 1))(encoder_output) # the Reshape layer will transform the encoder_output tensor into a shape of (4, 4, 1).\n",
    "x = layers.Conv2DTranspose(16, 3, activation=\"relu\")(x) # A 2D transposed convolutional layer (deconvolutional layer) with 16 filters of size 3x3 is applied.\n",
    "x = layers.Conv2DTranspose(32, 3, activation=\"relu\")(x) # Another 2D transposed convolutional layer with 32 filters of size 3x3 is applied.\n",
    "x = layers.UpSampling2D(3)(x) # An upsampling layer is applied, which increases the spatial dimensions of the data by a factor of 3.\n",
    "x = layers.Conv2DTranspose(16, 3, activation=\"relu\")(x) # Another 2D transposed convolutional layer with 16 filters of size 3x3 is applied.\n",
    "decoder_output = layers.Conv2DTranspose(1, 3, activation=\"relu\")(x) # The final layer applies a 2D transposed convolutional layer with 1 filter of size 3x3, \n",
    "                                                                    # which produces the decoder output.\n",
    "\n",
    "'''\n",
    "Autoencoder Model:\n",
    "\n",
    "autoencoder = keras.Model(encoder_input, decoder_output, name=\"autoencoder\"): \n",
    "This line defines the autoencoder model, which takes the encoder_input and outputs the decoder_output. \n",
    "It creates an instance of the keras.Model class, which represents the complete autoencoder model.\n",
    "'''\n",
    "\n",
    "autoencoder = keras.Model(encoder_input, decoder_output, name=\"autoencoder\")\n",
    "autoencoder.summary()\n",
    "\n",
    "''' \n",
    "The code defines an autoencoder architecture, consisting of an encoder part followed by a decoder part. \n",
    "The autoencoder is a type of neural network used for unsupervised learning, \n",
    "where it attempts to reconstruct the input data at its output, thus learning a compressed representation (latent space)\n",
    " of the input data. The encoder part compresses the input data into a lower-dimensional representation, \n",
    " and the decoder part tries to reconstruct the original data from this representation.\n",
    " '''"
   ]
  },
  {
   "cell_type": "code",
   "execution_count": 52,
   "metadata": {},
   "outputs": [],
   "source": [
    "# Compiling models\n",
    "\n",
    "'''\n",
    "This is the step to define weigths\n",
    "If you do not compile metrics or evaluate your model, you'll receive a warning:\n",
    "WARNING:tensorflow:Compiled the loaded model, but the compiled metrics have yet to be built.\n",
    "`model.compile_metrics` will be empty until you train or evaluate the model.\n",
    "'''\n",
    "\n",
    "encoder.compile(optimizer='adam', loss='binary_crossentropy')\n",
    "autoencoder.compile(optimizer='adam', loss='binary_crossentropy')"
   ]
  },
  {
   "cell_type": "code",
   "execution_count": 53,
   "metadata": {},
   "outputs": [
    {
     "data": {
      "image/png": "[encoded data removed]",
      "text/plain": [
       "<IPython.core.display.Image object>"
      ]
     },
     "execution_count": 53,
     "metadata": {},
     "output_type": "execute_result"
    }
   ],
   "source": [
    "# plot the autoencoder\n",
    "from tensorflow.keras.utils import plot_model\n",
    "\n",
    "plot_model(encoder, 'encoder_compress.png', show_shapes=True)"
   ]
  },
  {
   "cell_type": "code",
   "execution_count": 54,
   "metadata": {},
   "outputs": [
    {
     "data": {
      "image/png": "[encoded data removed]",
      "text/plain": [
       "<IPython.core.display.Image object>"
      ]
     },
     "execution_count": 54,
     "metadata": {},
     "output_type": "execute_result"
    }
   ],
   "source": [
    "plot_model(autoencoder, 'autoencoder_compress.png', show_shapes=True)"
   ]
  },
  {
   "cell_type": "code",
   "execution_count": 55,
   "metadata": {},
   "outputs": [
    {
     "name": "stdout",
     "output_type": "stream",
     "text": [
      "Downloading data from https://www.cs.toronto.edu/~kriz/cifar-10-python.tar.gz\n",
      "170498071/170498071 [==============================] - 104s 1us/step\n"
     ]
    }
   ],
   "source": [
    "# load dataset\n",
    "\n",
    "(x_train, y_train), (x_test, y_test) = keras.datasets.cifar10.load_data()\n",
    "\n",
    "assert x_train.shape == (50000, 32, 32, 3)\n",
    "assert y_train.shape == (50000, 1)\n",
    "\n",
    "assert x_test.shape == (10000, 32, 32, 3)\n",
    "assert y_test.shape == (10000, 1)"
   ]
  },
  {
   "cell_type": "code",
   "execution_count": 56,
   "metadata": {},
   "outputs": [
    {
     "name": "stdout",
     "output_type": "stream",
     "text": [
      "Epoch 1/100\n",
      "1563/1563 - 114s - loss: -3.7786e+01 - val_loss: -3.8025e+01 - 114s/epoch - 73ms/step\n",
      "Epoch 2/100\n",
      "1563/1563 - 141s - loss: -4.5505e+01 - val_loss: -4.5698e+01 - 141s/epoch - 90ms/step\n",
      "Epoch 3/100\n",
      "1563/1563 - 184s - loss: -4.5698e+01 - val_loss: -4.5698e+01 - 184s/epoch - 118ms/step\n",
      "Epoch 4/100\n",
      "1563/1563 - 111s - loss: -4.5698e+01 - val_loss: -4.5698e+01 - 111s/epoch - 71ms/step\n",
      "Epoch 5/100\n",
      "1563/1563 - 112s - loss: -4.5698e+01 - val_loss: -4.5698e+01 - 112s/epoch - 71ms/step\n",
      "Epoch 6/100\n",
      "1563/1563 - 118s - loss: -4.5698e+01 - val_loss: -4.5698e+01 - 118s/epoch - 76ms/step\n",
      "Epoch 7/100\n",
      "1563/1563 - 112s - loss: -4.5698e+01 - val_loss: -4.5698e+01 - 112s/epoch - 72ms/step\n",
      "Epoch 8/100\n",
      "1563/1563 - 113s - loss: -4.5698e+01 - val_loss: -4.5698e+01 - 113s/epoch - 72ms/step\n",
      "Epoch 9/100\n",
      "1563/1563 - 113s - loss: -4.5698e+01 - val_loss: -4.5698e+01 - 113s/epoch - 72ms/step\n",
      "Epoch 10/100\n",
      "1563/1563 - 111s - loss: -4.5698e+01 - val_loss: -4.5698e+01 - 111s/epoch - 71ms/step\n",
      "Epoch 11/100\n",
      "1563/1563 - 112s - loss: -4.5698e+01 - val_loss: -4.5698e+01 - 112s/epoch - 72ms/step\n",
      "Epoch 12/100\n",
      "1563/1563 - 113s - loss: -4.5698e+01 - val_loss: -4.5698e+01 - 113s/epoch - 72ms/step\n",
      "Epoch 13/100\n",
      "1563/1563 - 111s - loss: -4.5698e+01 - val_loss: -4.5698e+01 - 111s/epoch - 71ms/step\n",
      "Epoch 14/100\n",
      "1563/1563 - 113s - loss: -4.5698e+01 - val_loss: -4.5698e+01 - 113s/epoch - 72ms/step\n",
      "Epoch 15/100\n",
      "1563/1563 - 112s - loss: -4.5698e+01 - val_loss: -4.5698e+01 - 112s/epoch - 72ms/step\n",
      "Epoch 16/100\n",
      "1563/1563 - 110s - loss: -4.5698e+01 - val_loss: -4.5698e+01 - 110s/epoch - 70ms/step\n",
      "Epoch 17/100\n",
      "1563/1563 - 116s - loss: -4.5698e+01 - val_loss: -4.5698e+01 - 116s/epoch - 74ms/step\n",
      "Epoch 18/100\n",
      "1563/1563 - 111s - loss: -4.5698e+01 - val_loss: -4.5698e+01 - 111s/epoch - 71ms/step\n",
      "Epoch 19/100\n",
      "1563/1563 - 115s - loss: -4.5698e+01 - val_loss: -4.5698e+01 - 115s/epoch - 74ms/step\n",
      "Epoch 20/100\n",
      "1563/1563 - 120s - loss: -4.5698e+01 - val_loss: -4.5698e+01 - 120s/epoch - 77ms/step\n",
      "Epoch 21/100\n",
      "1563/1563 - 120s - loss: -4.5698e+01 - val_loss: -4.5698e+01 - 120s/epoch - 77ms/step\n",
      "Epoch 22/100\n",
      "1563/1563 - 120s - loss: -4.5698e+01 - val_loss: -4.5698e+01 - 120s/epoch - 77ms/step\n",
      "Epoch 23/100\n",
      "1563/1563 - 124s - loss: -4.5698e+01 - val_loss: -4.5698e+01 - 124s/epoch - 80ms/step\n",
      "Epoch 24/100\n",
      "1563/1563 - 130s - loss: -4.5698e+01 - val_loss: -4.5698e+01 - 130s/epoch - 83ms/step\n",
      "Epoch 25/100\n",
      "1563/1563 - 120s - loss: -4.5698e+01 - val_loss: -4.5698e+01 - 120s/epoch - 77ms/step\n",
      "Epoch 26/100\n",
      "1563/1563 - 119s - loss: -4.5698e+01 - val_loss: -4.5698e+01 - 119s/epoch - 76ms/step\n",
      "Epoch 27/100\n",
      "1563/1563 - 116s - loss: -4.5698e+01 - val_loss: -4.5698e+01 - 116s/epoch - 74ms/step\n",
      "Epoch 28/100\n",
      "1563/1563 - 116s - loss: -4.5698e+01 - val_loss: -4.5698e+01 - 116s/epoch - 74ms/step\n",
      "Epoch 29/100\n",
      "1563/1563 - 169s - loss: -4.5698e+01 - val_loss: -4.5698e+01 - 169s/epoch - 108ms/step\n",
      "Epoch 30/100\n",
      "1563/1563 - 122s - loss: -4.5698e+01 - val_loss: -4.5698e+01 - 122s/epoch - 78ms/step\n",
      "Epoch 31/100\n",
      "1563/1563 - 122s - loss: -4.5698e+01 - val_loss: -4.5698e+01 - 122s/epoch - 78ms/step\n",
      "Epoch 32/100\n",
      "1563/1563 - 120s - loss: -4.5698e+01 - val_loss: -4.5698e+01 - 120s/epoch - 76ms/step\n",
      "Epoch 33/100\n"
     ]
    },
    {
     "ename": "KeyboardInterrupt",
     "evalue": "",
     "output_type": "error",
     "traceback": [
      "\u001b[1;31m---------------------------------------------------------------------------\u001b[0m",
      "\u001b[1;31mKeyboardInterrupt\u001b[0m                         Traceback (most recent call last)",
      "Cell \u001b[1;32mIn[56], line 2\u001b[0m\n\u001b[0;32m      1\u001b[0m \u001b[39m# fit the autoencoder model to reconstruct input\u001b[39;00m\n\u001b[1;32m----> 2\u001b[0m history \u001b[39m=\u001b[39m encoder\u001b[39m.\u001b[39;49mfit(x_train, y_train, epochs\u001b[39m=\u001b[39;49m\u001b[39m100\u001b[39;49m, batch_size\u001b[39m=\u001b[39;49m\u001b[39m32\u001b[39;49m, verbose\u001b[39m=\u001b[39;49m\u001b[39m2\u001b[39;49m, validation_data\u001b[39m=\u001b[39;49m(x_test, y_test))\n",
      "File \u001b[1;32mc:\\Users\\danie\\anaconda3\\envs\\py31012\\lib\\site-packages\\keras\\utils\\traceback_utils.py:65\u001b[0m, in \u001b[0;36mfilter_traceback.<locals>.error_handler\u001b[1;34m(*args, **kwargs)\u001b[0m\n\u001b[0;32m     63\u001b[0m filtered_tb \u001b[39m=\u001b[39m \u001b[39mNone\u001b[39;00m\n\u001b[0;32m     64\u001b[0m \u001b[39mtry\u001b[39;00m:\n\u001b[1;32m---> 65\u001b[0m     \u001b[39mreturn\u001b[39;00m fn(\u001b[39m*\u001b[39margs, \u001b[39m*\u001b[39m\u001b[39m*\u001b[39mkwargs)\n\u001b[0;32m     66\u001b[0m \u001b[39mexcept\u001b[39;00m \u001b[39mException\u001b[39;00m \u001b[39mas\u001b[39;00m e:\n\u001b[0;32m     67\u001b[0m     filtered_tb \u001b[39m=\u001b[39m _process_traceback_frames(e\u001b[39m.\u001b[39m__traceback__)\n",
      "File \u001b[1;32mc:\\Users\\danie\\anaconda3\\envs\\py31012\\lib\\site-packages\\keras\\engine\\training.py:1564\u001b[0m, in \u001b[0;36mModel.fit\u001b[1;34m(self, x, y, batch_size, epochs, verbose, callbacks, validation_split, validation_data, shuffle, class_weight, sample_weight, initial_epoch, steps_per_epoch, validation_steps, validation_batch_size, validation_freq, max_queue_size, workers, use_multiprocessing)\u001b[0m\n\u001b[0;32m   1556\u001b[0m \u001b[39mwith\u001b[39;00m tf\u001b[39m.\u001b[39mprofiler\u001b[39m.\u001b[39mexperimental\u001b[39m.\u001b[39mTrace(\n\u001b[0;32m   1557\u001b[0m     \u001b[39m\"\u001b[39m\u001b[39mtrain\u001b[39m\u001b[39m\"\u001b[39m,\n\u001b[0;32m   1558\u001b[0m     epoch_num\u001b[39m=\u001b[39mepoch,\n\u001b[1;32m   (...)\u001b[0m\n\u001b[0;32m   1561\u001b[0m     _r\u001b[39m=\u001b[39m\u001b[39m1\u001b[39m,\n\u001b[0;32m   1562\u001b[0m ):\n\u001b[0;32m   1563\u001b[0m     callbacks\u001b[39m.\u001b[39mon_train_batch_begin(step)\n\u001b[1;32m-> 1564\u001b[0m     tmp_logs \u001b[39m=\u001b[39m \u001b[39mself\u001b[39;49m\u001b[39m.\u001b[39;49mtrain_function(iterator)\n\u001b[0;32m   1565\u001b[0m     \u001b[39mif\u001b[39;00m data_handler\u001b[39m.\u001b[39mshould_sync:\n\u001b[0;32m   1566\u001b[0m         context\u001b[39m.\u001b[39masync_wait()\n",
      "File \u001b[1;32mc:\\Users\\danie\\anaconda3\\envs\\py31012\\lib\\site-packages\\tensorflow\\python\\util\\traceback_utils.py:150\u001b[0m, in \u001b[0;36mfilter_traceback.<locals>.error_handler\u001b[1;34m(*args, **kwargs)\u001b[0m\n\u001b[0;32m    148\u001b[0m filtered_tb \u001b[39m=\u001b[39m \u001b[39mNone\u001b[39;00m\n\u001b[0;32m    149\u001b[0m \u001b[39mtry\u001b[39;00m:\n\u001b[1;32m--> 150\u001b[0m   \u001b[39mreturn\u001b[39;00m fn(\u001b[39m*\u001b[39margs, \u001b[39m*\u001b[39m\u001b[39m*\u001b[39mkwargs)\n\u001b[0;32m    151\u001b[0m \u001b[39mexcept\u001b[39;00m \u001b[39mException\u001b[39;00m \u001b[39mas\u001b[39;00m e:\n\u001b[0;32m    152\u001b[0m   filtered_tb \u001b[39m=\u001b[39m _process_traceback_frames(e\u001b[39m.\u001b[39m__traceback__)\n",
      "File \u001b[1;32mc:\\Users\\danie\\anaconda3\\envs\\py31012\\lib\\site-packages\\tensorflow\\python\\eager\\def_function.py:915\u001b[0m, in \u001b[0;36mFunction.__call__\u001b[1;34m(self, *args, **kwds)\u001b[0m\n\u001b[0;32m    912\u001b[0m compiler \u001b[39m=\u001b[39m \u001b[39m\"\u001b[39m\u001b[39mxla\u001b[39m\u001b[39m\"\u001b[39m \u001b[39mif\u001b[39;00m \u001b[39mself\u001b[39m\u001b[39m.\u001b[39m_jit_compile \u001b[39melse\u001b[39;00m \u001b[39m\"\u001b[39m\u001b[39mnonXla\u001b[39m\u001b[39m\"\u001b[39m\n\u001b[0;32m    914\u001b[0m \u001b[39mwith\u001b[39;00m OptionalXlaContext(\u001b[39mself\u001b[39m\u001b[39m.\u001b[39m_jit_compile):\n\u001b[1;32m--> 915\u001b[0m   result \u001b[39m=\u001b[39m \u001b[39mself\u001b[39m\u001b[39m.\u001b[39m_call(\u001b[39m*\u001b[39margs, \u001b[39m*\u001b[39m\u001b[39m*\u001b[39mkwds)\n\u001b[0;32m    917\u001b[0m new_tracing_count \u001b[39m=\u001b[39m \u001b[39mself\u001b[39m\u001b[39m.\u001b[39mexperimental_get_tracing_count()\n\u001b[0;32m    918\u001b[0m without_tracing \u001b[39m=\u001b[39m (tracing_count \u001b[39m==\u001b[39m new_tracing_count)\n",
      "File \u001b[1;32mc:\\Users\\danie\\anaconda3\\envs\\py31012\\lib\\site-packages\\tensorflow\\python\\eager\\def_function.py:947\u001b[0m, in \u001b[0;36mFunction._call\u001b[1;34m(self, *args, **kwds)\u001b[0m\n\u001b[0;32m    944\u001b[0m   \u001b[39mself\u001b[39m\u001b[39m.\u001b[39m_lock\u001b[39m.\u001b[39mrelease()\n\u001b[0;32m    945\u001b[0m   \u001b[39m# In this case we have created variables on the first call, so we run the\u001b[39;00m\n\u001b[0;32m    946\u001b[0m   \u001b[39m# defunned version which is guaranteed to never create variables.\u001b[39;00m\n\u001b[1;32m--> 947\u001b[0m   \u001b[39mreturn\u001b[39;00m \u001b[39mself\u001b[39m\u001b[39m.\u001b[39m_stateless_fn(\u001b[39m*\u001b[39margs, \u001b[39m*\u001b[39m\u001b[39m*\u001b[39mkwds)  \u001b[39m# pylint: disable=not-callable\u001b[39;00m\n\u001b[0;32m    948\u001b[0m \u001b[39melif\u001b[39;00m \u001b[39mself\u001b[39m\u001b[39m.\u001b[39m_stateful_fn \u001b[39mis\u001b[39;00m \u001b[39mnot\u001b[39;00m \u001b[39mNone\u001b[39;00m:\n\u001b[0;32m    949\u001b[0m   \u001b[39m# Release the lock early so that multiple threads can perform the call\u001b[39;00m\n\u001b[0;32m    950\u001b[0m   \u001b[39m# in parallel.\u001b[39;00m\n\u001b[0;32m    951\u001b[0m   \u001b[39mself\u001b[39m\u001b[39m.\u001b[39m_lock\u001b[39m.\u001b[39mrelease()\n",
      "File \u001b[1;32mc:\\Users\\danie\\anaconda3\\envs\\py31012\\lib\\site-packages\\tensorflow\\python\\eager\\function.py:2496\u001b[0m, in \u001b[0;36mFunction.__call__\u001b[1;34m(self, *args, **kwargs)\u001b[0m\n\u001b[0;32m   2493\u001b[0m \u001b[39mwith\u001b[39;00m \u001b[39mself\u001b[39m\u001b[39m.\u001b[39m_lock:\n\u001b[0;32m   2494\u001b[0m   (graph_function,\n\u001b[0;32m   2495\u001b[0m    filtered_flat_args) \u001b[39m=\u001b[39m \u001b[39mself\u001b[39m\u001b[39m.\u001b[39m_maybe_define_function(args, kwargs)\n\u001b[1;32m-> 2496\u001b[0m \u001b[39mreturn\u001b[39;00m graph_function\u001b[39m.\u001b[39;49m_call_flat(\n\u001b[0;32m   2497\u001b[0m     filtered_flat_args, captured_inputs\u001b[39m=\u001b[39;49mgraph_function\u001b[39m.\u001b[39;49mcaptured_inputs)\n",
      "File \u001b[1;32mc:\\Users\\danie\\anaconda3\\envs\\py31012\\lib\\site-packages\\tensorflow\\python\\eager\\function.py:1862\u001b[0m, in \u001b[0;36mConcreteFunction._call_flat\u001b[1;34m(self, args, captured_inputs, cancellation_manager)\u001b[0m\n\u001b[0;32m   1858\u001b[0m possible_gradient_type \u001b[39m=\u001b[39m gradients_util\u001b[39m.\u001b[39mPossibleTapeGradientTypes(args)\n\u001b[0;32m   1859\u001b[0m \u001b[39mif\u001b[39;00m (possible_gradient_type \u001b[39m==\u001b[39m gradients_util\u001b[39m.\u001b[39mPOSSIBLE_GRADIENT_TYPES_NONE\n\u001b[0;32m   1860\u001b[0m     \u001b[39mand\u001b[39;00m executing_eagerly):\n\u001b[0;32m   1861\u001b[0m   \u001b[39m# No tape is watching; skip to running the function.\u001b[39;00m\n\u001b[1;32m-> 1862\u001b[0m   \u001b[39mreturn\u001b[39;00m \u001b[39mself\u001b[39m\u001b[39m.\u001b[39m_build_call_outputs(\u001b[39mself\u001b[39;49m\u001b[39m.\u001b[39;49m_inference_function\u001b[39m.\u001b[39;49mcall(\n\u001b[0;32m   1863\u001b[0m       ctx, args, cancellation_manager\u001b[39m=\u001b[39;49mcancellation_manager))\n\u001b[0;32m   1864\u001b[0m forward_backward \u001b[39m=\u001b[39m \u001b[39mself\u001b[39m\u001b[39m.\u001b[39m_select_forward_and_backward_functions(\n\u001b[0;32m   1865\u001b[0m     args,\n\u001b[0;32m   1866\u001b[0m     possible_gradient_type,\n\u001b[0;32m   1867\u001b[0m     executing_eagerly)\n\u001b[0;32m   1868\u001b[0m forward_function, args_with_tangents \u001b[39m=\u001b[39m forward_backward\u001b[39m.\u001b[39mforward()\n",
      "File \u001b[1;32mc:\\Users\\danie\\anaconda3\\envs\\py31012\\lib\\site-packages\\tensorflow\\python\\eager\\function.py:499\u001b[0m, in \u001b[0;36m_EagerDefinedFunction.call\u001b[1;34m(self, ctx, args, cancellation_manager)\u001b[0m\n\u001b[0;32m    497\u001b[0m \u001b[39mwith\u001b[39;00m _InterpolateFunctionError(\u001b[39mself\u001b[39m):\n\u001b[0;32m    498\u001b[0m   \u001b[39mif\u001b[39;00m cancellation_manager \u001b[39mis\u001b[39;00m \u001b[39mNone\u001b[39;00m:\n\u001b[1;32m--> 499\u001b[0m     outputs \u001b[39m=\u001b[39m execute\u001b[39m.\u001b[39;49mexecute(\n\u001b[0;32m    500\u001b[0m         \u001b[39mstr\u001b[39;49m(\u001b[39mself\u001b[39;49m\u001b[39m.\u001b[39;49msignature\u001b[39m.\u001b[39;49mname),\n\u001b[0;32m    501\u001b[0m         num_outputs\u001b[39m=\u001b[39;49m\u001b[39mself\u001b[39;49m\u001b[39m.\u001b[39;49m_num_outputs,\n\u001b[0;32m    502\u001b[0m         inputs\u001b[39m=\u001b[39;49margs,\n\u001b[0;32m    503\u001b[0m         attrs\u001b[39m=\u001b[39;49mattrs,\n\u001b[0;32m    504\u001b[0m         ctx\u001b[39m=\u001b[39;49mctx)\n\u001b[0;32m    505\u001b[0m   \u001b[39melse\u001b[39;00m:\n\u001b[0;32m    506\u001b[0m     outputs \u001b[39m=\u001b[39m execute\u001b[39m.\u001b[39mexecute_with_cancellation(\n\u001b[0;32m    507\u001b[0m         \u001b[39mstr\u001b[39m(\u001b[39mself\u001b[39m\u001b[39m.\u001b[39msignature\u001b[39m.\u001b[39mname),\n\u001b[0;32m    508\u001b[0m         num_outputs\u001b[39m=\u001b[39m\u001b[39mself\u001b[39m\u001b[39m.\u001b[39m_num_outputs,\n\u001b[1;32m   (...)\u001b[0m\n\u001b[0;32m    511\u001b[0m         ctx\u001b[39m=\u001b[39mctx,\n\u001b[0;32m    512\u001b[0m         cancellation_manager\u001b[39m=\u001b[39mcancellation_manager)\n",
      "File \u001b[1;32mc:\\Users\\danie\\anaconda3\\envs\\py31012\\lib\\site-packages\\tensorflow\\python\\eager\\execute.py:54\u001b[0m, in \u001b[0;36mquick_execute\u001b[1;34m(op_name, num_outputs, inputs, attrs, ctx, name)\u001b[0m\n\u001b[0;32m     52\u001b[0m \u001b[39mtry\u001b[39;00m:\n\u001b[0;32m     53\u001b[0m   ctx\u001b[39m.\u001b[39mensure_initialized()\n\u001b[1;32m---> 54\u001b[0m   tensors \u001b[39m=\u001b[39m pywrap_tfe\u001b[39m.\u001b[39;49mTFE_Py_Execute(ctx\u001b[39m.\u001b[39;49m_handle, device_name, op_name,\n\u001b[0;32m     55\u001b[0m                                       inputs, attrs, num_outputs)\n\u001b[0;32m     56\u001b[0m \u001b[39mexcept\u001b[39;00m core\u001b[39m.\u001b[39m_NotOkStatusException \u001b[39mas\u001b[39;00m e:\n\u001b[0;32m     57\u001b[0m   \u001b[39mif\u001b[39;00m name \u001b[39mis\u001b[39;00m \u001b[39mnot\u001b[39;00m \u001b[39mNone\u001b[39;00m:\n",
      "\u001b[1;31mKeyboardInterrupt\u001b[0m: "
     ]
    }
   ],
   "source": [
    "\n",
    "# fit the autoencoder model to reconstruct input\n",
    "history = encoder.fit(x_train, y_train, epochs=100, batch_size=32, verbose=2, validation_data=(x_test, y_test))\n"
   ]
  },
  {
   "cell_type": "code",
   "execution_count": null,
   "metadata": {},
   "outputs": [],
   "source": [
    "# https://towardsdatascience.com/transfer-learning-on-greyscale-images-how-to-fine-tune-pretrained-models-on-black-and-white-9a5150755c7a\n",
    "# https://www.projectpro.io/recipes/run-and-fit-data-with-keras-model\n",
    "# https://machinelearningmastery.com/how-to-load-convert-and-save-images-with-the-keras-api/\n",
    "# https://keras.io/examples/\n"
   ]
  },
  {
   "cell_type": "code",
   "execution_count": 44,
   "metadata": {},
   "outputs": [],
   "source": [
    "# Saving\n",
    "\n",
    "encoder.save(\"functional_autoenconder_model.keras\")\n",
    "autoencoder.save(\"functional_enconder_model.keras\")"
   ]
  },
  {
   "cell_type": "code",
   "execution_count": 24,
   "metadata": {},
   "outputs": [
    {
     "name": "stdout",
     "output_type": "stream",
     "text": [
      "Model: \"encoder\"\n",
      "_________________________________________________________________\n",
      " Layer (type)                Output Shape              Param #   \n",
      "=================================================================\n",
      " original_img (InputLayer)   [(None, 28, 28, 1)]       0         \n",
      "                                                                 \n",
      " conv2d_4 (Conv2D)           (None, 26, 26, 16)        160       \n",
      "                                                                 \n",
      " conv2d_5 (Conv2D)           (None, 24, 24, 32)        4640      \n",
      "                                                                 \n",
      " max_pooling2d_1 (MaxPooling  (None, 8, 8, 32)         0         \n",
      " 2D)                                                             \n",
      "                                                                 \n",
      " conv2d_6 (Conv2D)           (None, 6, 6, 32)          9248      \n",
      "                                                                 \n",
      " conv2d_7 (Conv2D)           (None, 4, 4, 16)          4624      \n",
      "                                                                 \n",
      " global_max_pooling2d_1 (Glo  (None, 16)               0         \n",
      " balMaxPooling2D)                                                \n",
      "                                                                 \n",
      "=================================================================\n",
      "Total params: 18,672\n",
      "Trainable params: 18,672\n",
      "Non-trainable params: 0\n",
      "_________________________________________________________________\n",
      "Model: \"decoder\"\n",
      "_________________________________________________________________\n",
      " Layer (type)                Output Shape              Param #   \n",
      "=================================================================\n",
      " encoded_img (InputLayer)    [(None, 16)]              0         \n",
      "                                                                 \n",
      " reshape_1 (Reshape)         (None, 4, 4, 1)           0         \n",
      "                                                                 \n",
      " conv2d_transpose_4 (Conv2DT  (None, 6, 6, 16)         160       \n",
      " ranspose)                                                       \n",
      "                                                                 \n",
      " conv2d_transpose_5 (Conv2DT  (None, 8, 8, 32)         4640      \n",
      " ranspose)                                                       \n",
      "                                                                 \n",
      " up_sampling2d_1 (UpSampling  (None, 24, 24, 32)       0         \n",
      " 2D)                                                             \n",
      "                                                                 \n",
      " conv2d_transpose_6 (Conv2DT  (None, 26, 26, 16)       4624      \n",
      " ranspose)                                                       \n",
      "                                                                 \n",
      " conv2d_transpose_7 (Conv2DT  (None, 28, 28, 1)        145       \n",
      " ranspose)                                                       \n",
      "                                                                 \n",
      "=================================================================\n",
      "Total params: 9,569\n",
      "Trainable params: 9,569\n",
      "Non-trainable params: 0\n",
      "_________________________________________________________________\n",
      "Model: \"autoencoder\"\n",
      "_________________________________________________________________\n",
      " Layer (type)                Output Shape              Param #   \n",
      "=================================================================\n",
      " img (InputLayer)            [(None, 28, 28, 1)]       0         \n",
      "                                                                 \n",
      " encoder (Functional)        (None, 16)                18672     \n",
      "                                                                 \n",
      " decoder (Functional)        (None, 28, 28, 1)         9569      \n",
      "                                                                 \n",
      "=================================================================\n",
      "Total params: 28,241\n",
      "Trainable params: 28,241\n",
      "Non-trainable params: 0\n",
      "_________________________________________________________________\n"
     ]
    }
   ],
   "source": [
    "'''\n",
    "In the example above, the stack of layers instantiate two models:\n",
    "- an encoder model that turns image inputs into 16-dimensional vectors, \n",
    "- and an end-to-end autoencoder model for training.\n",
    "\n",
    "Bellow, there's a different take on the autoencoder example that creates an encoder model, \n",
    "a decoder model, and chains them in two calls to obtain the autoencoder model:\n",
    "\n",
    "'''\n",
    "\n",
    "# 1st model\n",
    "encoder_input = keras.Input(shape=(28, 28, 1), name=\"original_img\")\n",
    "x = layers.Conv2D(16, 3, activation=\"relu\")(encoder_input)\n",
    "x = layers.Conv2D(32, 3, activation=\"relu\")(x)\n",
    "x = layers.MaxPooling2D(3)(x)\n",
    "x = layers.Conv2D(32, 3, activation=\"relu\")(x)\n",
    "x = layers.Conv2D(16, 3, activation=\"relu\")(x)\n",
    "encoder_output = layers.GlobalMaxPooling2D()(x)\n",
    "\n",
    "encoder = keras.Model(encoder_input, encoder_output, name=\"encoder\")\n",
    "encoder.summary()\n",
    "\n",
    "# 2nd model\n",
    "decoder_input = keras.Input(shape=(16,), name=\"encoded_img\")\n",
    "x = layers.Reshape((4, 4, 1))(decoder_input)\n",
    "x = layers.Conv2DTranspose(16, 3, activation=\"relu\")(x)\n",
    "x = layers.Conv2DTranspose(32, 3, activation=\"relu\")(x)\n",
    "x = layers.UpSampling2D(3)(x)\n",
    "x = layers.Conv2DTranspose(16, 3, activation=\"relu\")(x)\n",
    "decoder_output = layers.Conv2DTranspose(1, 3, activation=\"relu\")(x)\n",
    "\n",
    "decoder = keras.Model(decoder_input, decoder_output, name=\"decoder\")\n",
    "decoder.summary()\n",
    "\n",
    "autoencoder_input = keras.Input(shape=(28, 28, 1), name=\"img\")\n",
    "encoded_img = encoder(autoencoder_input)\n",
    "decoded_img = decoder(encoded_img)\n",
    "autoencoder = keras.Model(autoencoder_input, decoded_img, name=\"autoencoder\")\n",
    "autoencoder.summary()"
   ]
  },
  {
   "cell_type": "code",
   "execution_count": 25,
   "metadata": {},
   "outputs": [
    {
     "name": "stdout",
     "output_type": "stream",
     "text": [
      "Model: \"autoencoder\"\n",
      "_________________________________________________________________\n",
      " Layer (type)                Output Shape              Param #   \n",
      "=================================================================\n",
      " img (InputLayer)            [(None, 28, 28, 1)]       0         \n",
      "                                                                 \n",
      " encoder (Functional)        (None, 16)                18672     \n",
      "                                                                 \n",
      " decoder (Functional)        (None, 28, 28, 1)         9569      \n",
      "                                                                 \n",
      "=================================================================\n",
      "Total params: 28,241\n",
      "Trainable params: 28,241\n",
      "Non-trainable params: 0\n",
      "_________________________________________________________________\n"
     ]
    }
   ],
   "source": [
    "'''\n",
    "This code defines an autoencoder model using the Keras functional API.\n",
    "In the given code, encoder(autoencoder_input) treats the encoder model as a function \n",
    "that takes the autoencoder_input tensor as input and produces the encoded_img tensor as output. \n",
    "It applies the encoder model to the input data to obtain the compressed representation in the latent space.\n",
    "\n",
    "The code defines an autoencoder architecture, consisting of an encoder part followed by a decoder part. \n",
    "The autoencoder is a type of neural network used for unsupervised learning, where it attempts to \n",
    "reconstruct the input data at its output, thus learning a compressed representation (latent space) of the input data. \n",
    "The encoder part compresses the input data into a lower-dimensional representation, and the decoder part tries to \n",
    "reconstruct the original data from this representation.\n",
    "\n",
    "'''\n",
    "\n",
    "autoencoder_input = keras.Input(shape=(28, 28, 1), name=\"img\") #creates an input layer for the autoencoder model.\n",
    "\n",
    "encoded_img = encoder(autoencoder_input)    # The code passes the autoencoder_input through the previously defined encoder model (encoder).\n",
    "                                            # This operation compresses the input images into a lower-dimensional representation (latent space) \n",
    "                                            # using the encoder.\n",
    "\n",
    "decoded_img = decoder(encoded_img)  # The code then takes the output of the encoder (encoded_img) \n",
    "                                    # and passes it through the previously defined decoder model (decoder). \n",
    "                                    # This operation reconstructs the original images from the compressed representation \n",
    "                                    # in the latent space using the decoder.\n",
    "\n",
    "autoencoder = keras.Model(autoencoder_input, decoded_img, name=\"autoencoder\")   # The autoencoder takes the autoencoder_input and outputs \n",
    "                                                                                # the decoded_img, representing the reconstructed images. \n",
    "                                                                                # It creates an instance of the keras.Model \n",
    "\n",
    "autoencoder.summary()"
   ]
  },
  {
   "cell_type": "code",
   "execution_count": 27,
   "metadata": {},
   "outputs": [
    {
     "name": "stdout",
     "output_type": "stream",
     "text": [
      "Model: \"encoder\"\n",
      "_________________________________________________________________\n",
      " Layer (type)                Output Shape              Param #   \n",
      "=================================================================\n",
      " original_img (InputLayer)   [(None, 28, 28, 1)]       0         \n",
      "                                                                 \n",
      " conv2d_4 (Conv2D)           (None, 26, 26, 16)        160       \n",
      "                                                                 \n",
      " conv2d_5 (Conv2D)           (None, 24, 24, 32)        4640      \n",
      "                                                                 \n",
      " max_pooling2d_1 (MaxPooling  (None, 8, 8, 32)         0         \n",
      " 2D)                                                             \n",
      "                                                                 \n",
      " conv2d_6 (Conv2D)           (None, 6, 6, 32)          9248      \n",
      "                                                                 \n",
      " conv2d_7 (Conv2D)           (None, 4, 4, 16)          4624      \n",
      "                                                                 \n",
      " global_max_pooling2d_1 (Glo  (None, 16)               0         \n",
      " balMaxPooling2D)                                                \n",
      "                                                                 \n",
      "=================================================================\n",
      "Total params: 18,672\n",
      "Trainable params: 18,672\n",
      "Non-trainable params: 0\n",
      "_________________________________________________________________\n"
     ]
    }
   ],
   "source": [
    "encoder.summary()"
   ]
  },
  {
   "cell_type": "code",
   "execution_count": 28,
   "metadata": {},
   "outputs": [
    {
     "name": "stdout",
     "output_type": "stream",
     "text": [
      "Model: \"decoder\"\n",
      "_________________________________________________________________\n",
      " Layer (type)                Output Shape              Param #   \n",
      "=================================================================\n",
      " encoded_img (InputLayer)    [(None, 16)]              0         \n",
      "                                                                 \n",
      " reshape_1 (Reshape)         (None, 4, 4, 1)           0         \n",
      "                                                                 \n",
      " conv2d_transpose_4 (Conv2DT  (None, 6, 6, 16)         160       \n",
      " ranspose)                                                       \n",
      "                                                                 \n",
      " conv2d_transpose_5 (Conv2DT  (None, 8, 8, 32)         4640      \n",
      " ranspose)                                                       \n",
      "                                                                 \n",
      " up_sampling2d_1 (UpSampling  (None, 24, 24, 32)       0         \n",
      " 2D)                                                             \n",
      "                                                                 \n",
      " conv2d_transpose_6 (Conv2DT  (None, 26, 26, 16)       4624      \n",
      " ranspose)                                                       \n",
      "                                                                 \n",
      " conv2d_transpose_7 (Conv2DT  (None, 28, 28, 1)        145       \n",
      " ranspose)                                                       \n",
      "                                                                 \n",
      "=================================================================\n",
      "Total params: 9,569\n",
      "Trainable params: 9,569\n",
      "Non-trainable params: 0\n",
      "_________________________________________________________________\n"
     ]
    }
   ],
   "source": [
    "decoder.summary()"
   ]
  },
  {
   "cell_type": "code",
   "execution_count": null,
   "metadata": {},
   "outputs": [],
   "source": []
  }
 ],
 "metadata": {
  "kernelspec": {
   "display_name": "py31012",
   "language": "python",
   "name": "python3"
  },
  "language_info": {
   "codemirror_mode": {
    "name": "ipython",
    "version": 3
   },
   "file_extension": ".py",
   "mimetype": "text/x-python",
   "name": "python",
   "nbconvert_exporter": "python",
   "pygments_lexer": "ipython3",
   "version": "3.10.12"
  },
  "orig_nbformat": 4
 },
 "nbformat": 4,
 "nbformat_minor": 2
}
